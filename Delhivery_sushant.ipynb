{
 "cells": [
  {
   "cell_type": "markdown",
   "id": "d435797e",
   "metadata": {},
   "source": [
    "# <center>Delhivery Business Case Study</center>                                                   "
   ]
  },
  {
   "cell_type": "markdown",
   "id": "2f02b732",
   "metadata": {},
   "source": [
    "## Introduction\n",
    "Delhivery, India's leading and rapidly growing integrated player, has set its sights on creating\n",
    "the commerce operating system.\n",
    "They achieve this by utilizing world-class infrastructure, ensuring the highest quality in\n",
    "logistics operations, and harnessing cutting-edge engineering and technology capabilities.\n",
    "The Data team builds intelligence and capabilities using this data that helps them to widen the gap between the quality, efficiency, and profitability of their business versus their competitors."
   ]
  },
  {
   "cell_type": "markdown",
   "id": "b6f8138f",
   "metadata": {},
   "source": [
    "### Problem Statement:\n",
    "**Delhivery, India's leading logistics provider, aims to leverage its vast data infrastructure to enhance operational efficiency and outperform competitors. The objective is to process data from their engineering pipelines to:**\n",
    "- **Clean and manipulate raw data** to extract valuable features.\n",
    "- **Interpret the data** to generate insights that support the development of forecasting models for improving logistics operations.\n",
    "\n",
    "This analysis is expected to improve the company's quality, efficiency, and profitability through data-driven decision-making."
   ]
  },
  {
   "cell_type": "markdown",
   "id": "79f27ac7",
   "metadata": {},
   "source": [
    "### 1. Basic data cleaning and exploration <br>\n",
    "The analysis was conducted on the data located at - https://d2beiqkhq929f0.cloudfront.net/public_assets/assets/000/001/551/original/delhivery_data.csv?1642751181"
   ]
  },
  {
   "cell_type": "code",
   "execution_count": 1,
   "id": "532160fa",
   "metadata": {},
   "outputs": [],
   "source": [
    "#import libraries\n",
    "\n",
    "import numpy as np\n",
    "import pandas as pd\n",
    "import matplotlib.pyplot as plt\n",
    "import seaborn as sns\n",
    "from scipy.stats import kruskal"
   ]
  },
  {
   "cell_type": "code",
   "execution_count": 2,
   "id": "a161f7d5",
   "metadata": {},
   "outputs": [],
   "source": [
    "df=pd.read_csv('delhivery_data.csv')"
   ]
  },
  {
   "cell_type": "code",
   "execution_count": 3,
   "id": "01d74432",
   "metadata": {},
   "outputs": [
    {
     "data": {
      "text/html": [
       "<div>\n",
       "<style scoped>\n",
       "    .dataframe tbody tr th:only-of-type {\n",
       "        vertical-align: middle;\n",
       "    }\n",
       "\n",
       "    .dataframe tbody tr th {\n",
       "        vertical-align: top;\n",
       "    }\n",
       "\n",
       "    .dataframe thead th {\n",
       "        text-align: right;\n",
       "    }\n",
       "</style>\n",
       "<table border=\"1\" class=\"dataframe\">\n",
       "  <thead>\n",
       "    <tr style=\"text-align: right;\">\n",
       "      <th></th>\n",
       "      <th>data</th>\n",
       "      <th>trip_creation_time</th>\n",
       "      <th>route_schedule_uuid</th>\n",
       "      <th>route_type</th>\n",
       "      <th>trip_uuid</th>\n",
       "      <th>source_center</th>\n",
       "      <th>source_name</th>\n",
       "      <th>destination_center</th>\n",
       "      <th>destination_name</th>\n",
       "      <th>od_start_time</th>\n",
       "      <th>...</th>\n",
       "      <th>cutoff_timestamp</th>\n",
       "      <th>actual_distance_to_destination</th>\n",
       "      <th>actual_time</th>\n",
       "      <th>osrm_time</th>\n",
       "      <th>osrm_distance</th>\n",
       "      <th>factor</th>\n",
       "      <th>segment_actual_time</th>\n",
       "      <th>segment_osrm_time</th>\n",
       "      <th>segment_osrm_distance</th>\n",
       "      <th>segment_factor</th>\n",
       "    </tr>\n",
       "  </thead>\n",
       "  <tbody>\n",
       "    <tr>\n",
       "      <th>0</th>\n",
       "      <td>training</td>\n",
       "      <td>2018-09-20 02:35:36.476840</td>\n",
       "      <td>thanos::sroute:eb7bfc78-b351-4c0e-a951-fa3d5c3...</td>\n",
       "      <td>Carting</td>\n",
       "      <td>trip-153741093647649320</td>\n",
       "      <td>IND388121AAA</td>\n",
       "      <td>Anand_VUNagar_DC (Gujarat)</td>\n",
       "      <td>IND388620AAB</td>\n",
       "      <td>Khambhat_MotvdDPP_D (Gujarat)</td>\n",
       "      <td>2018-09-20 03:21:32.418600</td>\n",
       "      <td>...</td>\n",
       "      <td>2018-09-20 04:27:55</td>\n",
       "      <td>10.435660</td>\n",
       "      <td>14.0</td>\n",
       "      <td>11.0</td>\n",
       "      <td>11.9653</td>\n",
       "      <td>1.272727</td>\n",
       "      <td>14.0</td>\n",
       "      <td>11.0</td>\n",
       "      <td>11.9653</td>\n",
       "      <td>1.272727</td>\n",
       "    </tr>\n",
       "    <tr>\n",
       "      <th>1</th>\n",
       "      <td>training</td>\n",
       "      <td>2018-09-20 02:35:36.476840</td>\n",
       "      <td>thanos::sroute:eb7bfc78-b351-4c0e-a951-fa3d5c3...</td>\n",
       "      <td>Carting</td>\n",
       "      <td>trip-153741093647649320</td>\n",
       "      <td>IND388121AAA</td>\n",
       "      <td>Anand_VUNagar_DC (Gujarat)</td>\n",
       "      <td>IND388620AAB</td>\n",
       "      <td>Khambhat_MotvdDPP_D (Gujarat)</td>\n",
       "      <td>2018-09-20 03:21:32.418600</td>\n",
       "      <td>...</td>\n",
       "      <td>2018-09-20 04:17:55</td>\n",
       "      <td>18.936842</td>\n",
       "      <td>24.0</td>\n",
       "      <td>20.0</td>\n",
       "      <td>21.7243</td>\n",
       "      <td>1.200000</td>\n",
       "      <td>10.0</td>\n",
       "      <td>9.0</td>\n",
       "      <td>9.7590</td>\n",
       "      <td>1.111111</td>\n",
       "    </tr>\n",
       "    <tr>\n",
       "      <th>2</th>\n",
       "      <td>training</td>\n",
       "      <td>2018-09-20 02:35:36.476840</td>\n",
       "      <td>thanos::sroute:eb7bfc78-b351-4c0e-a951-fa3d5c3...</td>\n",
       "      <td>Carting</td>\n",
       "      <td>trip-153741093647649320</td>\n",
       "      <td>IND388121AAA</td>\n",
       "      <td>Anand_VUNagar_DC (Gujarat)</td>\n",
       "      <td>IND388620AAB</td>\n",
       "      <td>Khambhat_MotvdDPP_D (Gujarat)</td>\n",
       "      <td>2018-09-20 03:21:32.418600</td>\n",
       "      <td>...</td>\n",
       "      <td>2018-09-20 04:01:19.505586</td>\n",
       "      <td>27.637279</td>\n",
       "      <td>40.0</td>\n",
       "      <td>28.0</td>\n",
       "      <td>32.5395</td>\n",
       "      <td>1.428571</td>\n",
       "      <td>16.0</td>\n",
       "      <td>7.0</td>\n",
       "      <td>10.8152</td>\n",
       "      <td>2.285714</td>\n",
       "    </tr>\n",
       "    <tr>\n",
       "      <th>3</th>\n",
       "      <td>training</td>\n",
       "      <td>2018-09-20 02:35:36.476840</td>\n",
       "      <td>thanos::sroute:eb7bfc78-b351-4c0e-a951-fa3d5c3...</td>\n",
       "      <td>Carting</td>\n",
       "      <td>trip-153741093647649320</td>\n",
       "      <td>IND388121AAA</td>\n",
       "      <td>Anand_VUNagar_DC (Gujarat)</td>\n",
       "      <td>IND388620AAB</td>\n",
       "      <td>Khambhat_MotvdDPP_D (Gujarat)</td>\n",
       "      <td>2018-09-20 03:21:32.418600</td>\n",
       "      <td>...</td>\n",
       "      <td>2018-09-20 03:39:57</td>\n",
       "      <td>36.118028</td>\n",
       "      <td>62.0</td>\n",
       "      <td>40.0</td>\n",
       "      <td>45.5620</td>\n",
       "      <td>1.550000</td>\n",
       "      <td>21.0</td>\n",
       "      <td>12.0</td>\n",
       "      <td>13.0224</td>\n",
       "      <td>1.750000</td>\n",
       "    </tr>\n",
       "    <tr>\n",
       "      <th>4</th>\n",
       "      <td>training</td>\n",
       "      <td>2018-09-20 02:35:36.476840</td>\n",
       "      <td>thanos::sroute:eb7bfc78-b351-4c0e-a951-fa3d5c3...</td>\n",
       "      <td>Carting</td>\n",
       "      <td>trip-153741093647649320</td>\n",
       "      <td>IND388121AAA</td>\n",
       "      <td>Anand_VUNagar_DC (Gujarat)</td>\n",
       "      <td>IND388620AAB</td>\n",
       "      <td>Khambhat_MotvdDPP_D (Gujarat)</td>\n",
       "      <td>2018-09-20 03:21:32.418600</td>\n",
       "      <td>...</td>\n",
       "      <td>2018-09-20 03:33:55</td>\n",
       "      <td>39.386040</td>\n",
       "      <td>68.0</td>\n",
       "      <td>44.0</td>\n",
       "      <td>54.2181</td>\n",
       "      <td>1.545455</td>\n",
       "      <td>6.0</td>\n",
       "      <td>5.0</td>\n",
       "      <td>3.9153</td>\n",
       "      <td>1.200000</td>\n",
       "    </tr>\n",
       "    <tr>\n",
       "      <th>5</th>\n",
       "      <td>training</td>\n",
       "      <td>2018-09-20 02:35:36.476840</td>\n",
       "      <td>thanos::sroute:eb7bfc78-b351-4c0e-a951-fa3d5c3...</td>\n",
       "      <td>Carting</td>\n",
       "      <td>trip-153741093647649320</td>\n",
       "      <td>IND388620AAB</td>\n",
       "      <td>Khambhat_MotvdDPP_D (Gujarat)</td>\n",
       "      <td>IND388320AAA</td>\n",
       "      <td>Anand_Vaghasi_IP (Gujarat)</td>\n",
       "      <td>2018-09-20 04:47:45.236797</td>\n",
       "      <td>...</td>\n",
       "      <td>2018-09-20 06:15:58</td>\n",
       "      <td>10.403038</td>\n",
       "      <td>15.0</td>\n",
       "      <td>11.0</td>\n",
       "      <td>12.1171</td>\n",
       "      <td>1.363636</td>\n",
       "      <td>15.0</td>\n",
       "      <td>11.0</td>\n",
       "      <td>12.1171</td>\n",
       "      <td>1.363636</td>\n",
       "    </tr>\n",
       "    <tr>\n",
       "      <th>6</th>\n",
       "      <td>training</td>\n",
       "      <td>2018-09-20 02:35:36.476840</td>\n",
       "      <td>thanos::sroute:eb7bfc78-b351-4c0e-a951-fa3d5c3...</td>\n",
       "      <td>Carting</td>\n",
       "      <td>trip-153741093647649320</td>\n",
       "      <td>IND388620AAB</td>\n",
       "      <td>Khambhat_MotvdDPP_D (Gujarat)</td>\n",
       "      <td>IND388320AAA</td>\n",
       "      <td>Anand_Vaghasi_IP (Gujarat)</td>\n",
       "      <td>2018-09-20 04:47:45.236797</td>\n",
       "      <td>...</td>\n",
       "      <td>2018-09-20 05:47:29</td>\n",
       "      <td>18.045481</td>\n",
       "      <td>44.0</td>\n",
       "      <td>17.0</td>\n",
       "      <td>21.2890</td>\n",
       "      <td>2.588235</td>\n",
       "      <td>28.0</td>\n",
       "      <td>6.0</td>\n",
       "      <td>9.1719</td>\n",
       "      <td>4.666667</td>\n",
       "    </tr>\n",
       "    <tr>\n",
       "      <th>7</th>\n",
       "      <td>training</td>\n",
       "      <td>2018-09-20 02:35:36.476840</td>\n",
       "      <td>thanos::sroute:eb7bfc78-b351-4c0e-a951-fa3d5c3...</td>\n",
       "      <td>Carting</td>\n",
       "      <td>trip-153741093647649320</td>\n",
       "      <td>IND388620AAB</td>\n",
       "      <td>Khambhat_MotvdDPP_D (Gujarat)</td>\n",
       "      <td>IND388320AAA</td>\n",
       "      <td>Anand_Vaghasi_IP (Gujarat)</td>\n",
       "      <td>2018-09-20 04:47:45.236797</td>\n",
       "      <td>...</td>\n",
       "      <td>2018-09-20 05:25:58</td>\n",
       "      <td>28.061896</td>\n",
       "      <td>65.0</td>\n",
       "      <td>29.0</td>\n",
       "      <td>35.8252</td>\n",
       "      <td>2.241379</td>\n",
       "      <td>21.0</td>\n",
       "      <td>11.0</td>\n",
       "      <td>14.5362</td>\n",
       "      <td>1.909091</td>\n",
       "    </tr>\n",
       "    <tr>\n",
       "      <th>8</th>\n",
       "      <td>training</td>\n",
       "      <td>2018-09-20 02:35:36.476840</td>\n",
       "      <td>thanos::sroute:eb7bfc78-b351-4c0e-a951-fa3d5c3...</td>\n",
       "      <td>Carting</td>\n",
       "      <td>trip-153741093647649320</td>\n",
       "      <td>IND388620AAB</td>\n",
       "      <td>Khambhat_MotvdDPP_D (Gujarat)</td>\n",
       "      <td>IND388320AAA</td>\n",
       "      <td>Anand_Vaghasi_IP (Gujarat)</td>\n",
       "      <td>2018-09-20 04:47:45.236797</td>\n",
       "      <td>...</td>\n",
       "      <td>2018-09-20 05:15:56</td>\n",
       "      <td>38.939167</td>\n",
       "      <td>76.0</td>\n",
       "      <td>39.0</td>\n",
       "      <td>47.1900</td>\n",
       "      <td>1.948718</td>\n",
       "      <td>10.0</td>\n",
       "      <td>10.0</td>\n",
       "      <td>11.3648</td>\n",
       "      <td>1.000000</td>\n",
       "    </tr>\n",
       "    <tr>\n",
       "      <th>9</th>\n",
       "      <td>training</td>\n",
       "      <td>2018-09-20 02:35:36.476840</td>\n",
       "      <td>thanos::sroute:eb7bfc78-b351-4c0e-a951-fa3d5c3...</td>\n",
       "      <td>Carting</td>\n",
       "      <td>trip-153741093647649320</td>\n",
       "      <td>IND388620AAB</td>\n",
       "      <td>Khambhat_MotvdDPP_D (Gujarat)</td>\n",
       "      <td>IND388320AAA</td>\n",
       "      <td>Anand_Vaghasi_IP (Gujarat)</td>\n",
       "      <td>2018-09-20 04:47:45.236797</td>\n",
       "      <td>...</td>\n",
       "      <td>2018-09-20 04:49:20</td>\n",
       "      <td>43.595802</td>\n",
       "      <td>102.0</td>\n",
       "      <td>45.0</td>\n",
       "      <td>53.2334</td>\n",
       "      <td>2.266667</td>\n",
       "      <td>26.0</td>\n",
       "      <td>6.0</td>\n",
       "      <td>6.0434</td>\n",
       "      <td>4.333333</td>\n",
       "    </tr>\n",
       "    <tr>\n",
       "      <th>10</th>\n",
       "      <td>training</td>\n",
       "      <td>2018-09-23 06:42:06.021680</td>\n",
       "      <td>thanos::sroute:ff52ef7a-4d0d-4063-9bfe-cc21172...</td>\n",
       "      <td>FTL</td>\n",
       "      <td>trip-153768492602129387</td>\n",
       "      <td>IND421302AAG</td>\n",
       "      <td>Bhiwandi_Mankoli_HB (Maharashtra)</td>\n",
       "      <td>IND411033AAA</td>\n",
       "      <td>Pune_Tathawde_H (Maharashtra)</td>\n",
       "      <td>2018-09-23 06:42:06.021680</td>\n",
       "      <td>...</td>\n",
       "      <td>2018-09-23 11:05:19</td>\n",
       "      <td>23.194334</td>\n",
       "      <td>38.0</td>\n",
       "      <td>24.0</td>\n",
       "      <td>26.8622</td>\n",
       "      <td>1.583333</td>\n",
       "      <td>38.0</td>\n",
       "      <td>24.0</td>\n",
       "      <td>26.8622</td>\n",
       "      <td>1.583333</td>\n",
       "    </tr>\n",
       "  </tbody>\n",
       "</table>\n",
       "<p>11 rows × 24 columns</p>\n",
       "</div>"
      ],
      "text/plain": [
       "        data          trip_creation_time  \\\n",
       "0   training  2018-09-20 02:35:36.476840   \n",
       "1   training  2018-09-20 02:35:36.476840   \n",
       "2   training  2018-09-20 02:35:36.476840   \n",
       "3   training  2018-09-20 02:35:36.476840   \n",
       "4   training  2018-09-20 02:35:36.476840   \n",
       "5   training  2018-09-20 02:35:36.476840   \n",
       "6   training  2018-09-20 02:35:36.476840   \n",
       "7   training  2018-09-20 02:35:36.476840   \n",
       "8   training  2018-09-20 02:35:36.476840   \n",
       "9   training  2018-09-20 02:35:36.476840   \n",
       "10  training  2018-09-23 06:42:06.021680   \n",
       "\n",
       "                                  route_schedule_uuid route_type  \\\n",
       "0   thanos::sroute:eb7bfc78-b351-4c0e-a951-fa3d5c3...    Carting   \n",
       "1   thanos::sroute:eb7bfc78-b351-4c0e-a951-fa3d5c3...    Carting   \n",
       "2   thanos::sroute:eb7bfc78-b351-4c0e-a951-fa3d5c3...    Carting   \n",
       "3   thanos::sroute:eb7bfc78-b351-4c0e-a951-fa3d5c3...    Carting   \n",
       "4   thanos::sroute:eb7bfc78-b351-4c0e-a951-fa3d5c3...    Carting   \n",
       "5   thanos::sroute:eb7bfc78-b351-4c0e-a951-fa3d5c3...    Carting   \n",
       "6   thanos::sroute:eb7bfc78-b351-4c0e-a951-fa3d5c3...    Carting   \n",
       "7   thanos::sroute:eb7bfc78-b351-4c0e-a951-fa3d5c3...    Carting   \n",
       "8   thanos::sroute:eb7bfc78-b351-4c0e-a951-fa3d5c3...    Carting   \n",
       "9   thanos::sroute:eb7bfc78-b351-4c0e-a951-fa3d5c3...    Carting   \n",
       "10  thanos::sroute:ff52ef7a-4d0d-4063-9bfe-cc21172...        FTL   \n",
       "\n",
       "                  trip_uuid source_center                        source_name  \\\n",
       "0   trip-153741093647649320  IND388121AAA         Anand_VUNagar_DC (Gujarat)   \n",
       "1   trip-153741093647649320  IND388121AAA         Anand_VUNagar_DC (Gujarat)   \n",
       "2   trip-153741093647649320  IND388121AAA         Anand_VUNagar_DC (Gujarat)   \n",
       "3   trip-153741093647649320  IND388121AAA         Anand_VUNagar_DC (Gujarat)   \n",
       "4   trip-153741093647649320  IND388121AAA         Anand_VUNagar_DC (Gujarat)   \n",
       "5   trip-153741093647649320  IND388620AAB      Khambhat_MotvdDPP_D (Gujarat)   \n",
       "6   trip-153741093647649320  IND388620AAB      Khambhat_MotvdDPP_D (Gujarat)   \n",
       "7   trip-153741093647649320  IND388620AAB      Khambhat_MotvdDPP_D (Gujarat)   \n",
       "8   trip-153741093647649320  IND388620AAB      Khambhat_MotvdDPP_D (Gujarat)   \n",
       "9   trip-153741093647649320  IND388620AAB      Khambhat_MotvdDPP_D (Gujarat)   \n",
       "10  trip-153768492602129387  IND421302AAG  Bhiwandi_Mankoli_HB (Maharashtra)   \n",
       "\n",
       "   destination_center               destination_name  \\\n",
       "0        IND388620AAB  Khambhat_MotvdDPP_D (Gujarat)   \n",
       "1        IND388620AAB  Khambhat_MotvdDPP_D (Gujarat)   \n",
       "2        IND388620AAB  Khambhat_MotvdDPP_D (Gujarat)   \n",
       "3        IND388620AAB  Khambhat_MotvdDPP_D (Gujarat)   \n",
       "4        IND388620AAB  Khambhat_MotvdDPP_D (Gujarat)   \n",
       "5        IND388320AAA     Anand_Vaghasi_IP (Gujarat)   \n",
       "6        IND388320AAA     Anand_Vaghasi_IP (Gujarat)   \n",
       "7        IND388320AAA     Anand_Vaghasi_IP (Gujarat)   \n",
       "8        IND388320AAA     Anand_Vaghasi_IP (Gujarat)   \n",
       "9        IND388320AAA     Anand_Vaghasi_IP (Gujarat)   \n",
       "10       IND411033AAA  Pune_Tathawde_H (Maharashtra)   \n",
       "\n",
       "                 od_start_time  ...            cutoff_timestamp  \\\n",
       "0   2018-09-20 03:21:32.418600  ...         2018-09-20 04:27:55   \n",
       "1   2018-09-20 03:21:32.418600  ...         2018-09-20 04:17:55   \n",
       "2   2018-09-20 03:21:32.418600  ...  2018-09-20 04:01:19.505586   \n",
       "3   2018-09-20 03:21:32.418600  ...         2018-09-20 03:39:57   \n",
       "4   2018-09-20 03:21:32.418600  ...         2018-09-20 03:33:55   \n",
       "5   2018-09-20 04:47:45.236797  ...         2018-09-20 06:15:58   \n",
       "6   2018-09-20 04:47:45.236797  ...         2018-09-20 05:47:29   \n",
       "7   2018-09-20 04:47:45.236797  ...         2018-09-20 05:25:58   \n",
       "8   2018-09-20 04:47:45.236797  ...         2018-09-20 05:15:56   \n",
       "9   2018-09-20 04:47:45.236797  ...         2018-09-20 04:49:20   \n",
       "10  2018-09-23 06:42:06.021680  ...         2018-09-23 11:05:19   \n",
       "\n",
       "    actual_distance_to_destination  actual_time  osrm_time osrm_distance  \\\n",
       "0                        10.435660         14.0       11.0       11.9653   \n",
       "1                        18.936842         24.0       20.0       21.7243   \n",
       "2                        27.637279         40.0       28.0       32.5395   \n",
       "3                        36.118028         62.0       40.0       45.5620   \n",
       "4                        39.386040         68.0       44.0       54.2181   \n",
       "5                        10.403038         15.0       11.0       12.1171   \n",
       "6                        18.045481         44.0       17.0       21.2890   \n",
       "7                        28.061896         65.0       29.0       35.8252   \n",
       "8                        38.939167         76.0       39.0       47.1900   \n",
       "9                        43.595802        102.0       45.0       53.2334   \n",
       "10                       23.194334         38.0       24.0       26.8622   \n",
       "\n",
       "      factor  segment_actual_time  segment_osrm_time  segment_osrm_distance  \\\n",
       "0   1.272727                 14.0               11.0                11.9653   \n",
       "1   1.200000                 10.0                9.0                 9.7590   \n",
       "2   1.428571                 16.0                7.0                10.8152   \n",
       "3   1.550000                 21.0               12.0                13.0224   \n",
       "4   1.545455                  6.0                5.0                 3.9153   \n",
       "5   1.363636                 15.0               11.0                12.1171   \n",
       "6   2.588235                 28.0                6.0                 9.1719   \n",
       "7   2.241379                 21.0               11.0                14.5362   \n",
       "8   1.948718                 10.0               10.0                11.3648   \n",
       "9   2.266667                 26.0                6.0                 6.0434   \n",
       "10  1.583333                 38.0               24.0                26.8622   \n",
       "\n",
       "    segment_factor  \n",
       "0         1.272727  \n",
       "1         1.111111  \n",
       "2         2.285714  \n",
       "3         1.750000  \n",
       "4         1.200000  \n",
       "5         1.363636  \n",
       "6         4.666667  \n",
       "7         1.909091  \n",
       "8         1.000000  \n",
       "9         4.333333  \n",
       "10        1.583333  \n",
       "\n",
       "[11 rows x 24 columns]"
      ]
     },
     "execution_count": 3,
     "metadata": {},
     "output_type": "execute_result"
    }
   ],
   "source": [
    "df.head(11)"
   ]
  },
  {
   "cell_type": "code",
   "execution_count": 4,
   "id": "1d78daeb",
   "metadata": {},
   "outputs": [
    {
     "data": {
      "text/plain": [
       "(144867, 24)"
      ]
     },
     "execution_count": 4,
     "metadata": {},
     "output_type": "execute_result"
    }
   ],
   "source": [
    "df.shape"
   ]
  },
  {
   "cell_type": "markdown",
   "id": "13bfad7f",
   "metadata": {},
   "source": [
    "- **A quick overview of the data indicates it consists of 1,44,867 rows and 24 columns.**"
   ]
  },
  {
   "cell_type": "code",
   "execution_count": 5,
   "id": "d0ce33d9",
   "metadata": {},
   "outputs": [
    {
     "name": "stdout",
     "output_type": "stream",
     "text": [
      "<class 'pandas.core.frame.DataFrame'>\n",
      "RangeIndex: 144867 entries, 0 to 144866\n",
      "Data columns (total 24 columns):\n",
      " #   Column                          Non-Null Count   Dtype  \n",
      "---  ------                          --------------   -----  \n",
      " 0   data                            144867 non-null  object \n",
      " 1   trip_creation_time              144867 non-null  object \n",
      " 2   route_schedule_uuid             144867 non-null  object \n",
      " 3   route_type                      144867 non-null  object \n",
      " 4   trip_uuid                       144867 non-null  object \n",
      " 5   source_center                   144867 non-null  object \n",
      " 6   source_name                     144574 non-null  object \n",
      " 7   destination_center              144867 non-null  object \n",
      " 8   destination_name                144606 non-null  object \n",
      " 9   od_start_time                   144867 non-null  object \n",
      " 10  od_end_time                     144867 non-null  object \n",
      " 11  start_scan_to_end_scan          144867 non-null  float64\n",
      " 12  is_cutoff                       144867 non-null  bool   \n",
      " 13  cutoff_factor                   144867 non-null  int64  \n",
      " 14  cutoff_timestamp                144867 non-null  object \n",
      " 15  actual_distance_to_destination  144867 non-null  float64\n",
      " 16  actual_time                     144867 non-null  float64\n",
      " 17  osrm_time                       144867 non-null  float64\n",
      " 18  osrm_distance                   144867 non-null  float64\n",
      " 19  factor                          144867 non-null  float64\n",
      " 20  segment_actual_time             144867 non-null  float64\n",
      " 21  segment_osrm_time               144867 non-null  float64\n",
      " 22  segment_osrm_distance           144867 non-null  float64\n",
      " 23  segment_factor                  144867 non-null  float64\n",
      "dtypes: bool(1), float64(10), int64(1), object(12)\n",
      "memory usage: 25.6+ MB\n"
     ]
    }
   ],
   "source": [
    "df.info()"
   ]
  },
  {
   "cell_type": "code",
   "execution_count": 6,
   "id": "6585e617",
   "metadata": {},
   "outputs": [
    {
     "data": {
      "text/plain": [
       "0"
      ]
     },
     "execution_count": 6,
     "metadata": {},
     "output_type": "execute_result"
    }
   ],
   "source": [
    "#To check duplicate values\n",
    "df.duplicated().sum()"
   ]
  },
  {
   "cell_type": "code",
   "execution_count": 7,
   "id": "6f8ce587",
   "metadata": {},
   "outputs": [
    {
     "data": {
      "text/plain": [
       "data                                0\n",
       "trip_creation_time                  0\n",
       "route_schedule_uuid                 0\n",
       "route_type                          0\n",
       "trip_uuid                           0\n",
       "source_center                       0\n",
       "source_name                       293\n",
       "destination_center                  0\n",
       "destination_name                  261\n",
       "od_start_time                       0\n",
       "od_end_time                         0\n",
       "start_scan_to_end_scan              0\n",
       "is_cutoff                           0\n",
       "cutoff_factor                       0\n",
       "cutoff_timestamp                    0\n",
       "actual_distance_to_destination      0\n",
       "actual_time                         0\n",
       "osrm_time                           0\n",
       "osrm_distance                       0\n",
       "factor                              0\n",
       "segment_actual_time                 0\n",
       "segment_osrm_time                   0\n",
       "segment_osrm_distance               0\n",
       "segment_factor                      0\n",
       "dtype: int64"
      ]
     },
     "execution_count": 7,
     "metadata": {},
     "output_type": "execute_result"
    }
   ],
   "source": [
    "#To check missing values\n",
    "df.isnull().sum()  "
   ]
  },
  {
   "cell_type": "markdown",
   "id": "bedbad9f",
   "metadata": {},
   "source": [
    "- The dataset has 293 missing values in the **\"source_name\" column** and 261 in the **\"destination_name\" column.** Since these are small compared to the total size of 144,867 rows, it's okay to remove the rows with missing values.\n",
    "- There are no **duplicate entries.**\n",
    "- While it's always advisable to consult a domain expert regarding **unknown fields** such as **is_cutoff, cutoff_factor, cutoff_timestamp, factor, and segment_factor** to understand their significance, in this case study, we can proceed to drop them. Since these fields are not required for our current analysis, and no critical insights rely on them, removing them will streamline the data."
   ]
  },
  {
   "cell_type": "code",
   "execution_count": 8,
   "id": "761df5ac",
   "metadata": {},
   "outputs": [
    {
     "data": {
      "text/plain": [
       "data                              0\n",
       "trip_creation_time                0\n",
       "route_schedule_uuid               0\n",
       "route_type                        0\n",
       "trip_uuid                         0\n",
       "source_center                     0\n",
       "source_name                       0\n",
       "destination_center                0\n",
       "destination_name                  0\n",
       "od_start_time                     0\n",
       "od_end_time                       0\n",
       "start_scan_to_end_scan            0\n",
       "actual_distance_to_destination    0\n",
       "actual_time                       0\n",
       "osrm_time                         0\n",
       "osrm_distance                     0\n",
       "segment_actual_time               0\n",
       "segment_osrm_time                 0\n",
       "segment_osrm_distance             0\n",
       "dtype: int64"
      ]
     },
     "execution_count": 8,
     "metadata": {},
     "output_type": "execute_result"
    }
   ],
   "source": [
    "#Removing null values\n",
    "df = df.dropna(how='any')\n",
    "df = df.drop(columns = [\"is_cutoff\", \"cutoff_factor\", \"cutoff_timestamp\", \"factor\", \"segment_factor\"])\n",
    "df.isnull().sum()"
   ]
  },
  {
   "cell_type": "markdown",
   "id": "ee85c886",
   "metadata": {},
   "source": [
    "- **Converting time columns into pandas datetime.**\n"
   ]
  },
  {
   "cell_type": "code",
   "execution_count": 9,
   "id": "f2ba4f0c",
   "metadata": {},
   "outputs": [],
   "source": [
    "df['od_start_time'] = pd.to_datetime(df['od_start_time'])\n",
    "df['od_end_time'] = pd.to_datetime(df['od_end_time'])\n",
    "df['trip_creation_time'] = pd.to_datetime(df['trip_creation_time'])"
   ]
  },
  {
   "cell_type": "code",
   "execution_count": 10,
   "id": "5655a76d",
   "metadata": {},
   "outputs": [
    {
     "data": {
      "text/html": [
       "<div>\n",
       "<style scoped>\n",
       "    .dataframe tbody tr th:only-of-type {\n",
       "        vertical-align: middle;\n",
       "    }\n",
       "\n",
       "    .dataframe tbody tr th {\n",
       "        vertical-align: top;\n",
       "    }\n",
       "\n",
       "    .dataframe thead th {\n",
       "        text-align: right;\n",
       "    }\n",
       "</style>\n",
       "<table border=\"1\" class=\"dataframe\">\n",
       "  <thead>\n",
       "    <tr style=\"text-align: right;\">\n",
       "      <th></th>\n",
       "      <th>start_scan_to_end_scan</th>\n",
       "      <th>actual_distance_to_destination</th>\n",
       "      <th>actual_time</th>\n",
       "      <th>osrm_time</th>\n",
       "      <th>osrm_distance</th>\n",
       "      <th>segment_actual_time</th>\n",
       "      <th>segment_osrm_time</th>\n",
       "      <th>segment_osrm_distance</th>\n",
       "    </tr>\n",
       "  </thead>\n",
       "  <tbody>\n",
       "    <tr>\n",
       "      <th>count</th>\n",
       "      <td>144316.000000</td>\n",
       "      <td>144316.000000</td>\n",
       "      <td>144316.000000</td>\n",
       "      <td>144316.000000</td>\n",
       "      <td>144316.000000</td>\n",
       "      <td>144316.000000</td>\n",
       "      <td>144316.000000</td>\n",
       "      <td>144316.000000</td>\n",
       "    </tr>\n",
       "    <tr>\n",
       "      <th>mean</th>\n",
       "      <td>963.697698</td>\n",
       "      <td>234.708498</td>\n",
       "      <td>417.996237</td>\n",
       "      <td>214.437055</td>\n",
       "      <td>285.549785</td>\n",
       "      <td>36.175379</td>\n",
       "      <td>18.495697</td>\n",
       "      <td>22.818993</td>\n",
       "    </tr>\n",
       "    <tr>\n",
       "      <th>std</th>\n",
       "      <td>1038.082976</td>\n",
       "      <td>345.480571</td>\n",
       "      <td>598.940065</td>\n",
       "      <td>308.448543</td>\n",
       "      <td>421.717826</td>\n",
       "      <td>53.524298</td>\n",
       "      <td>14.774008</td>\n",
       "      <td>17.866367</td>\n",
       "    </tr>\n",
       "    <tr>\n",
       "      <th>min</th>\n",
       "      <td>20.000000</td>\n",
       "      <td>9.000045</td>\n",
       "      <td>9.000000</td>\n",
       "      <td>6.000000</td>\n",
       "      <td>9.008200</td>\n",
       "      <td>-244.000000</td>\n",
       "      <td>0.000000</td>\n",
       "      <td>0.000000</td>\n",
       "    </tr>\n",
       "    <tr>\n",
       "      <th>25%</th>\n",
       "      <td>161.000000</td>\n",
       "      <td>23.352027</td>\n",
       "      <td>51.000000</td>\n",
       "      <td>27.000000</td>\n",
       "      <td>29.896250</td>\n",
       "      <td>20.000000</td>\n",
       "      <td>11.000000</td>\n",
       "      <td>12.053975</td>\n",
       "    </tr>\n",
       "    <tr>\n",
       "      <th>50%</th>\n",
       "      <td>451.000000</td>\n",
       "      <td>66.135322</td>\n",
       "      <td>132.000000</td>\n",
       "      <td>64.000000</td>\n",
       "      <td>78.624400</td>\n",
       "      <td>28.000000</td>\n",
       "      <td>17.000000</td>\n",
       "      <td>23.508300</td>\n",
       "    </tr>\n",
       "    <tr>\n",
       "      <th>75%</th>\n",
       "      <td>1645.000000</td>\n",
       "      <td>286.919294</td>\n",
       "      <td>516.000000</td>\n",
       "      <td>259.000000</td>\n",
       "      <td>346.305400</td>\n",
       "      <td>40.000000</td>\n",
       "      <td>22.000000</td>\n",
       "      <td>27.813325</td>\n",
       "    </tr>\n",
       "    <tr>\n",
       "      <th>max</th>\n",
       "      <td>7898.000000</td>\n",
       "      <td>1927.447705</td>\n",
       "      <td>4532.000000</td>\n",
       "      <td>1686.000000</td>\n",
       "      <td>2326.199100</td>\n",
       "      <td>3051.000000</td>\n",
       "      <td>1611.000000</td>\n",
       "      <td>2191.403700</td>\n",
       "    </tr>\n",
       "  </tbody>\n",
       "</table>\n",
       "</div>"
      ],
      "text/plain": [
       "       start_scan_to_end_scan  actual_distance_to_destination    actual_time  \\\n",
       "count           144316.000000                   144316.000000  144316.000000   \n",
       "mean               963.697698                      234.708498     417.996237   \n",
       "std               1038.082976                      345.480571     598.940065   \n",
       "min                 20.000000                        9.000045       9.000000   \n",
       "25%                161.000000                       23.352027      51.000000   \n",
       "50%                451.000000                       66.135322     132.000000   \n",
       "75%               1645.000000                      286.919294     516.000000   \n",
       "max               7898.000000                     1927.447705    4532.000000   \n",
       "\n",
       "           osrm_time  osrm_distance  segment_actual_time  segment_osrm_time  \\\n",
       "count  144316.000000  144316.000000        144316.000000      144316.000000   \n",
       "mean      214.437055     285.549785            36.175379          18.495697   \n",
       "std       308.448543     421.717826            53.524298          14.774008   \n",
       "min         6.000000       9.008200          -244.000000           0.000000   \n",
       "25%        27.000000      29.896250            20.000000          11.000000   \n",
       "50%        64.000000      78.624400            28.000000          17.000000   \n",
       "75%       259.000000     346.305400            40.000000          22.000000   \n",
       "max      1686.000000    2326.199100          3051.000000        1611.000000   \n",
       "\n",
       "       segment_osrm_distance  \n",
       "count          144316.000000  \n",
       "mean               22.818993  \n",
       "std                17.866367  \n",
       "min                 0.000000  \n",
       "25%                12.053975  \n",
       "50%                23.508300  \n",
       "75%                27.813325  \n",
       "max              2191.403700  "
      ]
     },
     "execution_count": 10,
     "metadata": {},
     "output_type": "execute_result"
    }
   ],
   "source": [
    "df.describe()"
   ]
  },
  {
   "cell_type": "code",
   "execution_count": 11,
   "id": "7705479a",
   "metadata": {},
   "outputs": [
    {
     "name": "stdout",
     "output_type": "stream",
     "text": [
      " Data start date: 2018-09-12 00:00:16.535741')  to Data end date: 2018-10-03 23:59:42.701692\n"
     ]
    }
   ],
   "source": [
    "print(f\" Data start date: {min(df['trip_creation_time'])}')  to Data end date: {max(df['trip_creation_time'])}\")\n",
    "\n"
   ]
  },
  {
   "cell_type": "markdown",
   "id": "e717ee2e",
   "metadata": {},
   "source": [
    "**Overview of data**\n",
    "- The data is provided from **2018-09-12 00:00:16.535741 to 2018-10-03 23:59:42.701692**\n",
    "- The **average distance** between source and destination warehouse is **235 Kms** with **least distance being 9 Kms** and **maximum distance being 1927 Kms**\n"
   ]
  },
  {
   "cell_type": "markdown",
   "id": "a1df904b",
   "metadata": {},
   "source": [
    "### 2. **Grouping by segments in the trip**"
   ]
  },
  {
   "cell_type": "markdown",
   "id": "a321ebd3",
   "metadata": {},
   "source": [
    "Aggregating data at both the segment and trip levels is essential for understanding and optimizing the logistics operations in the dataset.\n",
    "\n",
    "#### **1. Grouping segment-level data**\n",
    "\n",
    "- **Combine segment information**: Each trip is divided into multiple segments, representing different parts of the journey. Aggregating segment-level data helps in summarizing these individual segments into a coherent view of the trip.\n",
    "- Creating a unique identifier for different segments of a trip based on the combination of the **trip_uuid, source_center and destination_center** and naming it as **segment_key.**\n"
   ]
  },
  {
   "cell_type": "code",
   "execution_count": 12,
   "id": "d3c2d160",
   "metadata": {},
   "outputs": [
    {
     "data": {
      "text/html": [
       "<div>\n",
       "<style scoped>\n",
       "    .dataframe tbody tr th:only-of-type {\n",
       "        vertical-align: middle;\n",
       "    }\n",
       "\n",
       "    .dataframe tbody tr th {\n",
       "        vertical-align: top;\n",
       "    }\n",
       "\n",
       "    .dataframe thead th {\n",
       "        text-align: right;\n",
       "    }\n",
       "</style>\n",
       "<table border=\"1\" class=\"dataframe\">\n",
       "  <thead>\n",
       "    <tr style=\"text-align: right;\">\n",
       "      <th></th>\n",
       "      <th>segment_actual_time_sum</th>\n",
       "      <th>segment_osrm_time_sum</th>\n",
       "      <th>segment_osrm_distance_sum</th>\n",
       "    </tr>\n",
       "  </thead>\n",
       "  <tbody>\n",
       "    <tr>\n",
       "      <th>0</th>\n",
       "      <td>14.0</td>\n",
       "      <td>11.0</td>\n",
       "      <td>11.9653</td>\n",
       "    </tr>\n",
       "    <tr>\n",
       "      <th>1</th>\n",
       "      <td>24.0</td>\n",
       "      <td>20.0</td>\n",
       "      <td>21.7243</td>\n",
       "    </tr>\n",
       "    <tr>\n",
       "      <th>2</th>\n",
       "      <td>40.0</td>\n",
       "      <td>27.0</td>\n",
       "      <td>32.5395</td>\n",
       "    </tr>\n",
       "    <tr>\n",
       "      <th>3</th>\n",
       "      <td>61.0</td>\n",
       "      <td>39.0</td>\n",
       "      <td>45.5619</td>\n",
       "    </tr>\n",
       "    <tr>\n",
       "      <th>4</th>\n",
       "      <td>67.0</td>\n",
       "      <td>44.0</td>\n",
       "      <td>49.4772</td>\n",
       "    </tr>\n",
       "    <tr>\n",
       "      <th>...</th>\n",
       "      <td>...</td>\n",
       "      <td>...</td>\n",
       "      <td>...</td>\n",
       "    </tr>\n",
       "    <tr>\n",
       "      <th>144862</th>\n",
       "      <td>92.0</td>\n",
       "      <td>94.0</td>\n",
       "      <td>65.3487</td>\n",
       "    </tr>\n",
       "    <tr>\n",
       "      <th>144863</th>\n",
       "      <td>118.0</td>\n",
       "      <td>115.0</td>\n",
       "      <td>82.7212</td>\n",
       "    </tr>\n",
       "    <tr>\n",
       "      <th>144864</th>\n",
       "      <td>138.0</td>\n",
       "      <td>149.0</td>\n",
       "      <td>103.4265</td>\n",
       "    </tr>\n",
       "    <tr>\n",
       "      <th>144865</th>\n",
       "      <td>155.0</td>\n",
       "      <td>176.0</td>\n",
       "      <td>122.3150</td>\n",
       "    </tr>\n",
       "    <tr>\n",
       "      <th>144866</th>\n",
       "      <td>423.0</td>\n",
       "      <td>185.0</td>\n",
       "      <td>131.1238</td>\n",
       "    </tr>\n",
       "  </tbody>\n",
       "</table>\n",
       "<p>144316 rows × 3 columns</p>\n",
       "</div>"
      ],
      "text/plain": [
       "        segment_actual_time_sum  segment_osrm_time_sum  \\\n",
       "0                          14.0                   11.0   \n",
       "1                          24.0                   20.0   \n",
       "2                          40.0                   27.0   \n",
       "3                          61.0                   39.0   \n",
       "4                          67.0                   44.0   \n",
       "...                         ...                    ...   \n",
       "144862                     92.0                   94.0   \n",
       "144863                    118.0                  115.0   \n",
       "144864                    138.0                  149.0   \n",
       "144865                    155.0                  176.0   \n",
       "144866                    423.0                  185.0   \n",
       "\n",
       "        segment_osrm_distance_sum  \n",
       "0                         11.9653  \n",
       "1                         21.7243  \n",
       "2                         32.5395  \n",
       "3                         45.5619  \n",
       "4                         49.4772  \n",
       "...                           ...  \n",
       "144862                    65.3487  \n",
       "144863                    82.7212  \n",
       "144864                   103.4265  \n",
       "144865                   122.3150  \n",
       "144866                   131.1238  \n",
       "\n",
       "[144316 rows x 3 columns]"
      ]
     },
     "execution_count": 12,
     "metadata": {},
     "output_type": "execute_result"
    }
   ],
   "source": [
    "df['segment_key'] = df['trip_uuid'] + df['source_center'] + df['destination_center']\n",
    "seg_cols = ['segment_actual_time','segment_osrm_time','segment_osrm_distance' ]\n",
    "for col in seg_cols:\n",
    "    df[col+'_sum'] = df.groupby('segment_key')[col].cumsum()\n",
    "\n",
    "df[[col + '_sum' for col in seg_cols]]"
   ]
  },
  {
   "cell_type": "code",
   "execution_count": 13,
   "id": "a2a90816",
   "metadata": {},
   "outputs": [
    {
     "data": {
      "text/html": [
       "<div>\n",
       "<style scoped>\n",
       "    .dataframe tbody tr th:only-of-type {\n",
       "        vertical-align: middle;\n",
       "    }\n",
       "\n",
       "    .dataframe tbody tr th {\n",
       "        vertical-align: top;\n",
       "    }\n",
       "\n",
       "    .dataframe thead th {\n",
       "        text-align: right;\n",
       "    }\n",
       "</style>\n",
       "<table border=\"1\" class=\"dataframe\">\n",
       "  <thead>\n",
       "    <tr style=\"text-align: right;\">\n",
       "      <th></th>\n",
       "      <th>data</th>\n",
       "      <th>trip_creation_time</th>\n",
       "      <th>route_schedule_uuid</th>\n",
       "      <th>route_type</th>\n",
       "      <th>trip_uuid</th>\n",
       "      <th>source_center</th>\n",
       "      <th>source_name</th>\n",
       "      <th>destination_center</th>\n",
       "      <th>destination_name</th>\n",
       "      <th>od_start_time</th>\n",
       "      <th>...</th>\n",
       "      <th>actual_time</th>\n",
       "      <th>osrm_time</th>\n",
       "      <th>osrm_distance</th>\n",
       "      <th>segment_actual_time</th>\n",
       "      <th>segment_osrm_time</th>\n",
       "      <th>segment_osrm_distance</th>\n",
       "      <th>segment_key</th>\n",
       "      <th>segment_actual_time_sum</th>\n",
       "      <th>segment_osrm_time_sum</th>\n",
       "      <th>segment_osrm_distance_sum</th>\n",
       "    </tr>\n",
       "  </thead>\n",
       "  <tbody>\n",
       "    <tr>\n",
       "      <th>0</th>\n",
       "      <td>training</td>\n",
       "      <td>2018-09-20 02:35:36.476840</td>\n",
       "      <td>thanos::sroute:eb7bfc78-b351-4c0e-a951-fa3d5c3...</td>\n",
       "      <td>Carting</td>\n",
       "      <td>trip-153741093647649320</td>\n",
       "      <td>IND388121AAA</td>\n",
       "      <td>Anand_VUNagar_DC (Gujarat)</td>\n",
       "      <td>IND388620AAB</td>\n",
       "      <td>Khambhat_MotvdDPP_D (Gujarat)</td>\n",
       "      <td>2018-09-20 03:21:32.418600</td>\n",
       "      <td>...</td>\n",
       "      <td>14.0</td>\n",
       "      <td>11.0</td>\n",
       "      <td>11.9653</td>\n",
       "      <td>14.0</td>\n",
       "      <td>11.0</td>\n",
       "      <td>11.9653</td>\n",
       "      <td>trip-153741093647649320IND388121AAAIND388620AAB</td>\n",
       "      <td>14.0</td>\n",
       "      <td>11.0</td>\n",
       "      <td>11.9653</td>\n",
       "    </tr>\n",
       "    <tr>\n",
       "      <th>1</th>\n",
       "      <td>training</td>\n",
       "      <td>2018-09-20 02:35:36.476840</td>\n",
       "      <td>thanos::sroute:eb7bfc78-b351-4c0e-a951-fa3d5c3...</td>\n",
       "      <td>Carting</td>\n",
       "      <td>trip-153741093647649320</td>\n",
       "      <td>IND388121AAA</td>\n",
       "      <td>Anand_VUNagar_DC (Gujarat)</td>\n",
       "      <td>IND388620AAB</td>\n",
       "      <td>Khambhat_MotvdDPP_D (Gujarat)</td>\n",
       "      <td>2018-09-20 03:21:32.418600</td>\n",
       "      <td>...</td>\n",
       "      <td>24.0</td>\n",
       "      <td>20.0</td>\n",
       "      <td>21.7243</td>\n",
       "      <td>10.0</td>\n",
       "      <td>9.0</td>\n",
       "      <td>9.7590</td>\n",
       "      <td>trip-153741093647649320IND388121AAAIND388620AAB</td>\n",
       "      <td>24.0</td>\n",
       "      <td>20.0</td>\n",
       "      <td>21.7243</td>\n",
       "    </tr>\n",
       "    <tr>\n",
       "      <th>2</th>\n",
       "      <td>training</td>\n",
       "      <td>2018-09-20 02:35:36.476840</td>\n",
       "      <td>thanos::sroute:eb7bfc78-b351-4c0e-a951-fa3d5c3...</td>\n",
       "      <td>Carting</td>\n",
       "      <td>trip-153741093647649320</td>\n",
       "      <td>IND388121AAA</td>\n",
       "      <td>Anand_VUNagar_DC (Gujarat)</td>\n",
       "      <td>IND388620AAB</td>\n",
       "      <td>Khambhat_MotvdDPP_D (Gujarat)</td>\n",
       "      <td>2018-09-20 03:21:32.418600</td>\n",
       "      <td>...</td>\n",
       "      <td>40.0</td>\n",
       "      <td>28.0</td>\n",
       "      <td>32.5395</td>\n",
       "      <td>16.0</td>\n",
       "      <td>7.0</td>\n",
       "      <td>10.8152</td>\n",
       "      <td>trip-153741093647649320IND388121AAAIND388620AAB</td>\n",
       "      <td>40.0</td>\n",
       "      <td>27.0</td>\n",
       "      <td>32.5395</td>\n",
       "    </tr>\n",
       "    <tr>\n",
       "      <th>3</th>\n",
       "      <td>training</td>\n",
       "      <td>2018-09-20 02:35:36.476840</td>\n",
       "      <td>thanos::sroute:eb7bfc78-b351-4c0e-a951-fa3d5c3...</td>\n",
       "      <td>Carting</td>\n",
       "      <td>trip-153741093647649320</td>\n",
       "      <td>IND388121AAA</td>\n",
       "      <td>Anand_VUNagar_DC (Gujarat)</td>\n",
       "      <td>IND388620AAB</td>\n",
       "      <td>Khambhat_MotvdDPP_D (Gujarat)</td>\n",
       "      <td>2018-09-20 03:21:32.418600</td>\n",
       "      <td>...</td>\n",
       "      <td>62.0</td>\n",
       "      <td>40.0</td>\n",
       "      <td>45.5620</td>\n",
       "      <td>21.0</td>\n",
       "      <td>12.0</td>\n",
       "      <td>13.0224</td>\n",
       "      <td>trip-153741093647649320IND388121AAAIND388620AAB</td>\n",
       "      <td>61.0</td>\n",
       "      <td>39.0</td>\n",
       "      <td>45.5619</td>\n",
       "    </tr>\n",
       "    <tr>\n",
       "      <th>4</th>\n",
       "      <td>training</td>\n",
       "      <td>2018-09-20 02:35:36.476840</td>\n",
       "      <td>thanos::sroute:eb7bfc78-b351-4c0e-a951-fa3d5c3...</td>\n",
       "      <td>Carting</td>\n",
       "      <td>trip-153741093647649320</td>\n",
       "      <td>IND388121AAA</td>\n",
       "      <td>Anand_VUNagar_DC (Gujarat)</td>\n",
       "      <td>IND388620AAB</td>\n",
       "      <td>Khambhat_MotvdDPP_D (Gujarat)</td>\n",
       "      <td>2018-09-20 03:21:32.418600</td>\n",
       "      <td>...</td>\n",
       "      <td>68.0</td>\n",
       "      <td>44.0</td>\n",
       "      <td>54.2181</td>\n",
       "      <td>6.0</td>\n",
       "      <td>5.0</td>\n",
       "      <td>3.9153</td>\n",
       "      <td>trip-153741093647649320IND388121AAAIND388620AAB</td>\n",
       "      <td>67.0</td>\n",
       "      <td>44.0</td>\n",
       "      <td>49.4772</td>\n",
       "    </tr>\n",
       "  </tbody>\n",
       "</table>\n",
       "<p>5 rows × 23 columns</p>\n",
       "</div>"
      ],
      "text/plain": [
       "       data         trip_creation_time  \\\n",
       "0  training 2018-09-20 02:35:36.476840   \n",
       "1  training 2018-09-20 02:35:36.476840   \n",
       "2  training 2018-09-20 02:35:36.476840   \n",
       "3  training 2018-09-20 02:35:36.476840   \n",
       "4  training 2018-09-20 02:35:36.476840   \n",
       "\n",
       "                                 route_schedule_uuid route_type  \\\n",
       "0  thanos::sroute:eb7bfc78-b351-4c0e-a951-fa3d5c3...    Carting   \n",
       "1  thanos::sroute:eb7bfc78-b351-4c0e-a951-fa3d5c3...    Carting   \n",
       "2  thanos::sroute:eb7bfc78-b351-4c0e-a951-fa3d5c3...    Carting   \n",
       "3  thanos::sroute:eb7bfc78-b351-4c0e-a951-fa3d5c3...    Carting   \n",
       "4  thanos::sroute:eb7bfc78-b351-4c0e-a951-fa3d5c3...    Carting   \n",
       "\n",
       "                 trip_uuid source_center                 source_name  \\\n",
       "0  trip-153741093647649320  IND388121AAA  Anand_VUNagar_DC (Gujarat)   \n",
       "1  trip-153741093647649320  IND388121AAA  Anand_VUNagar_DC (Gujarat)   \n",
       "2  trip-153741093647649320  IND388121AAA  Anand_VUNagar_DC (Gujarat)   \n",
       "3  trip-153741093647649320  IND388121AAA  Anand_VUNagar_DC (Gujarat)   \n",
       "4  trip-153741093647649320  IND388121AAA  Anand_VUNagar_DC (Gujarat)   \n",
       "\n",
       "  destination_center               destination_name  \\\n",
       "0       IND388620AAB  Khambhat_MotvdDPP_D (Gujarat)   \n",
       "1       IND388620AAB  Khambhat_MotvdDPP_D (Gujarat)   \n",
       "2       IND388620AAB  Khambhat_MotvdDPP_D (Gujarat)   \n",
       "3       IND388620AAB  Khambhat_MotvdDPP_D (Gujarat)   \n",
       "4       IND388620AAB  Khambhat_MotvdDPP_D (Gujarat)   \n",
       "\n",
       "               od_start_time  ... actual_time  osrm_time  osrm_distance  \\\n",
       "0 2018-09-20 03:21:32.418600  ...        14.0       11.0        11.9653   \n",
       "1 2018-09-20 03:21:32.418600  ...        24.0       20.0        21.7243   \n",
       "2 2018-09-20 03:21:32.418600  ...        40.0       28.0        32.5395   \n",
       "3 2018-09-20 03:21:32.418600  ...        62.0       40.0        45.5620   \n",
       "4 2018-09-20 03:21:32.418600  ...        68.0       44.0        54.2181   \n",
       "\n",
       "   segment_actual_time  segment_osrm_time  segment_osrm_distance  \\\n",
       "0                 14.0               11.0                11.9653   \n",
       "1                 10.0                9.0                 9.7590   \n",
       "2                 16.0                7.0                10.8152   \n",
       "3                 21.0               12.0                13.0224   \n",
       "4                  6.0                5.0                 3.9153   \n",
       "\n",
       "                                       segment_key  segment_actual_time_sum  \\\n",
       "0  trip-153741093647649320IND388121AAAIND388620AAB                     14.0   \n",
       "1  trip-153741093647649320IND388121AAAIND388620AAB                     24.0   \n",
       "2  trip-153741093647649320IND388121AAAIND388620AAB                     40.0   \n",
       "3  trip-153741093647649320IND388121AAAIND388620AAB                     61.0   \n",
       "4  trip-153741093647649320IND388121AAAIND388620AAB                     67.0   \n",
       "\n",
       "   segment_osrm_time_sum segment_osrm_distance_sum  \n",
       "0                   11.0                   11.9653  \n",
       "1                   20.0                   21.7243  \n",
       "2                   27.0                   32.5395  \n",
       "3                   39.0                   45.5619  \n",
       "4                   44.0                   49.4772  \n",
       "\n",
       "[5 rows x 23 columns]"
      ]
     },
     "execution_count": 13,
     "metadata": {},
     "output_type": "execute_result"
    }
   ],
   "source": [
    "df.head()"
   ]
  },
  {
   "cell_type": "markdown",
   "id": "7a50a446",
   "metadata": {},
   "source": [
    "#### Aggregating segment-level data"
   ]
  },
  {
   "cell_type": "code",
   "execution_count": 14,
   "id": "9ab1dea3",
   "metadata": {},
   "outputs": [
    {
     "data": {
      "text/html": [
       "<div>\n",
       "<style scoped>\n",
       "    .dataframe tbody tr th:only-of-type {\n",
       "        vertical-align: middle;\n",
       "    }\n",
       "\n",
       "    .dataframe tbody tr th {\n",
       "        vertical-align: top;\n",
       "    }\n",
       "\n",
       "    .dataframe thead th {\n",
       "        text-align: right;\n",
       "    }\n",
       "</style>\n",
       "<table border=\"1\" class=\"dataframe\">\n",
       "  <thead>\n",
       "    <tr style=\"text-align: right;\">\n",
       "      <th></th>\n",
       "      <th>index</th>\n",
       "      <th>segment_key</th>\n",
       "      <th>data</th>\n",
       "      <th>trip_creation_time</th>\n",
       "      <th>route_schedule_uuid</th>\n",
       "      <th>route_type</th>\n",
       "      <th>trip_uuid</th>\n",
       "      <th>source_center</th>\n",
       "      <th>source_name</th>\n",
       "      <th>destination_center</th>\n",
       "      <th>...</th>\n",
       "      <th>od_start_time</th>\n",
       "      <th>od_end_time</th>\n",
       "      <th>start_scan_to_end_scan</th>\n",
       "      <th>actual_distance_to_destination</th>\n",
       "      <th>actual_time</th>\n",
       "      <th>osrm_time</th>\n",
       "      <th>osrm_distance</th>\n",
       "      <th>segment_actual_time_sum</th>\n",
       "      <th>segment_osrm_distance_sum</th>\n",
       "      <th>segment_osrm_time_sum</th>\n",
       "    </tr>\n",
       "  </thead>\n",
       "  <tbody>\n",
       "    <tr>\n",
       "      <th>0</th>\n",
       "      <td>0</td>\n",
       "      <td>trip-153671041653548748IND209304AAAIND000000ACB</td>\n",
       "      <td>training</td>\n",
       "      <td>2018-09-12 00:00:16.535741</td>\n",
       "      <td>thanos::sroute:d7c989ba-a29b-4a0b-b2f4-288cdc6...</td>\n",
       "      <td>FTL</td>\n",
       "      <td>trip-153671041653548748</td>\n",
       "      <td>IND209304AAA</td>\n",
       "      <td>Kanpur_Central_H_6 (Uttar Pradesh)</td>\n",
       "      <td>IND000000ACB</td>\n",
       "      <td>...</td>\n",
       "      <td>2018-09-12 16:39:46.858469</td>\n",
       "      <td>2018-09-13 13:40:23.123744</td>\n",
       "      <td>1260.0</td>\n",
       "      <td>383.759164</td>\n",
       "      <td>732.0</td>\n",
       "      <td>329.0</td>\n",
       "      <td>446.5496</td>\n",
       "      <td>728.0</td>\n",
       "      <td>670.6205</td>\n",
       "      <td>534.0</td>\n",
       "    </tr>\n",
       "    <tr>\n",
       "      <th>1</th>\n",
       "      <td>1</td>\n",
       "      <td>trip-153671041653548748IND462022AAAIND209304AAA</td>\n",
       "      <td>training</td>\n",
       "      <td>2018-09-12 00:00:16.535741</td>\n",
       "      <td>thanos::sroute:d7c989ba-a29b-4a0b-b2f4-288cdc6...</td>\n",
       "      <td>FTL</td>\n",
       "      <td>trip-153671041653548748</td>\n",
       "      <td>IND462022AAA</td>\n",
       "      <td>Bhopal_Trnsport_H (Madhya Pradesh)</td>\n",
       "      <td>IND209304AAA</td>\n",
       "      <td>...</td>\n",
       "      <td>2018-09-12 00:00:16.535741</td>\n",
       "      <td>2018-09-12 16:39:46.858469</td>\n",
       "      <td>999.0</td>\n",
       "      <td>440.973689</td>\n",
       "      <td>830.0</td>\n",
       "      <td>388.0</td>\n",
       "      <td>544.8027</td>\n",
       "      <td>820.0</td>\n",
       "      <td>649.8528</td>\n",
       "      <td>474.0</td>\n",
       "    </tr>\n",
       "    <tr>\n",
       "      <th>2</th>\n",
       "      <td>2</td>\n",
       "      <td>trip-153671042288605164IND561203AABIND562101AAA</td>\n",
       "      <td>training</td>\n",
       "      <td>2018-09-12 00:00:22.886430</td>\n",
       "      <td>thanos::sroute:3a1b0ab2-bb0b-4c53-8c59-eb2a2c0...</td>\n",
       "      <td>Carting</td>\n",
       "      <td>trip-153671042288605164</td>\n",
       "      <td>IND561203AAB</td>\n",
       "      <td>Doddablpur_ChikaDPP_D (Karnataka)</td>\n",
       "      <td>IND562101AAA</td>\n",
       "      <td>...</td>\n",
       "      <td>2018-09-12 02:03:09.655591</td>\n",
       "      <td>2018-09-12 03:01:59.598855</td>\n",
       "      <td>58.0</td>\n",
       "      <td>24.644021</td>\n",
       "      <td>47.0</td>\n",
       "      <td>26.0</td>\n",
       "      <td>28.1994</td>\n",
       "      <td>46.0</td>\n",
       "      <td>28.1995</td>\n",
       "      <td>26.0</td>\n",
       "    </tr>\n",
       "    <tr>\n",
       "      <th>3</th>\n",
       "      <td>3</td>\n",
       "      <td>trip-153671042288605164IND572101AAAIND561203AAB</td>\n",
       "      <td>training</td>\n",
       "      <td>2018-09-12 00:00:22.886430</td>\n",
       "      <td>thanos::sroute:3a1b0ab2-bb0b-4c53-8c59-eb2a2c0...</td>\n",
       "      <td>Carting</td>\n",
       "      <td>trip-153671042288605164</td>\n",
       "      <td>IND572101AAA</td>\n",
       "      <td>Tumkur_Veersagr_I (Karnataka)</td>\n",
       "      <td>IND561203AAB</td>\n",
       "      <td>...</td>\n",
       "      <td>2018-09-12 00:00:22.886430</td>\n",
       "      <td>2018-09-12 02:03:09.655591</td>\n",
       "      <td>122.0</td>\n",
       "      <td>48.542890</td>\n",
       "      <td>96.0</td>\n",
       "      <td>42.0</td>\n",
       "      <td>56.9116</td>\n",
       "      <td>95.0</td>\n",
       "      <td>55.9899</td>\n",
       "      <td>39.0</td>\n",
       "    </tr>\n",
       "    <tr>\n",
       "      <th>4</th>\n",
       "      <td>4</td>\n",
       "      <td>trip-153671043369099517IND000000ACBIND160002AAC</td>\n",
       "      <td>training</td>\n",
       "      <td>2018-09-12 00:00:33.691250</td>\n",
       "      <td>thanos::sroute:de5e208e-7641-45e6-8100-4d9fb1e...</td>\n",
       "      <td>FTL</td>\n",
       "      <td>trip-153671043369099517</td>\n",
       "      <td>IND000000ACB</td>\n",
       "      <td>Gurgaon_Bilaspur_HB (Haryana)</td>\n",
       "      <td>IND160002AAC</td>\n",
       "      <td>...</td>\n",
       "      <td>2018-09-14 03:40:17.106733</td>\n",
       "      <td>2018-09-14 17:34:55.442454</td>\n",
       "      <td>834.0</td>\n",
       "      <td>237.439610</td>\n",
       "      <td>611.0</td>\n",
       "      <td>212.0</td>\n",
       "      <td>281.2109</td>\n",
       "      <td>608.0</td>\n",
       "      <td>317.7408</td>\n",
       "      <td>231.0</td>\n",
       "    </tr>\n",
       "  </tbody>\n",
       "</table>\n",
       "<p>5 rows × 21 columns</p>\n",
       "</div>"
      ],
      "text/plain": [
       "   index                                      segment_key      data  \\\n",
       "0      0  trip-153671041653548748IND209304AAAIND000000ACB  training   \n",
       "1      1  trip-153671041653548748IND462022AAAIND209304AAA  training   \n",
       "2      2  trip-153671042288605164IND561203AABIND562101AAA  training   \n",
       "3      3  trip-153671042288605164IND572101AAAIND561203AAB  training   \n",
       "4      4  trip-153671043369099517IND000000ACBIND160002AAC  training   \n",
       "\n",
       "          trip_creation_time  \\\n",
       "0 2018-09-12 00:00:16.535741   \n",
       "1 2018-09-12 00:00:16.535741   \n",
       "2 2018-09-12 00:00:22.886430   \n",
       "3 2018-09-12 00:00:22.886430   \n",
       "4 2018-09-12 00:00:33.691250   \n",
       "\n",
       "                                 route_schedule_uuid route_type  \\\n",
       "0  thanos::sroute:d7c989ba-a29b-4a0b-b2f4-288cdc6...        FTL   \n",
       "1  thanos::sroute:d7c989ba-a29b-4a0b-b2f4-288cdc6...        FTL   \n",
       "2  thanos::sroute:3a1b0ab2-bb0b-4c53-8c59-eb2a2c0...    Carting   \n",
       "3  thanos::sroute:3a1b0ab2-bb0b-4c53-8c59-eb2a2c0...    Carting   \n",
       "4  thanos::sroute:de5e208e-7641-45e6-8100-4d9fb1e...        FTL   \n",
       "\n",
       "                 trip_uuid source_center                         source_name  \\\n",
       "0  trip-153671041653548748  IND209304AAA  Kanpur_Central_H_6 (Uttar Pradesh)   \n",
       "1  trip-153671041653548748  IND462022AAA  Bhopal_Trnsport_H (Madhya Pradesh)   \n",
       "2  trip-153671042288605164  IND561203AAB   Doddablpur_ChikaDPP_D (Karnataka)   \n",
       "3  trip-153671042288605164  IND572101AAA       Tumkur_Veersagr_I (Karnataka)   \n",
       "4  trip-153671043369099517  IND000000ACB       Gurgaon_Bilaspur_HB (Haryana)   \n",
       "\n",
       "  destination_center  ...              od_start_time  \\\n",
       "0       IND000000ACB  ... 2018-09-12 16:39:46.858469   \n",
       "1       IND209304AAA  ... 2018-09-12 00:00:16.535741   \n",
       "2       IND562101AAA  ... 2018-09-12 02:03:09.655591   \n",
       "3       IND561203AAB  ... 2018-09-12 00:00:22.886430   \n",
       "4       IND160002AAC  ... 2018-09-14 03:40:17.106733   \n",
       "\n",
       "                 od_end_time start_scan_to_end_scan  \\\n",
       "0 2018-09-13 13:40:23.123744                 1260.0   \n",
       "1 2018-09-12 16:39:46.858469                  999.0   \n",
       "2 2018-09-12 03:01:59.598855                   58.0   \n",
       "3 2018-09-12 02:03:09.655591                  122.0   \n",
       "4 2018-09-14 17:34:55.442454                  834.0   \n",
       "\n",
       "   actual_distance_to_destination  actual_time  osrm_time  osrm_distance  \\\n",
       "0                      383.759164        732.0      329.0       446.5496   \n",
       "1                      440.973689        830.0      388.0       544.8027   \n",
       "2                       24.644021         47.0       26.0        28.1994   \n",
       "3                       48.542890         96.0       42.0        56.9116   \n",
       "4                      237.439610        611.0      212.0       281.2109   \n",
       "\n",
       "   segment_actual_time_sum  segment_osrm_distance_sum  segment_osrm_time_sum  \n",
       "0                    728.0                   670.6205                  534.0  \n",
       "1                    820.0                   649.8528                  474.0  \n",
       "2                     46.0                    28.1995                   26.0  \n",
       "3                     95.0                    55.9899                   39.0  \n",
       "4                    608.0                   317.7408                  231.0  \n",
       "\n",
       "[5 rows x 21 columns]"
      ]
     },
     "execution_count": 14,
     "metadata": {},
     "output_type": "execute_result"
    }
   ],
   "source": [
    "create_segment_dict = {\n",
    "\n",
    "    'data' : 'first',\n",
    "    'trip_creation_time': 'first',\n",
    "    'route_schedule_uuid' : 'first',\n",
    "    'route_type' : 'first',\n",
    "    'trip_uuid' : 'first',\n",
    "    'source_center' : 'first',\n",
    "    'source_name' : 'first',\n",
    "\n",
    "    'destination_center' : 'last',\n",
    "    'destination_name' : 'last',\n",
    "\n",
    "    'od_start_time' : 'first',\n",
    "    'od_end_time' : 'first',\n",
    "    'start_scan_to_end_scan' : 'first',\n",
    "\n",
    "\n",
    "    'actual_distance_to_destination' : 'last',\n",
    "    'actual_time' : 'last',\n",
    "\n",
    "    'osrm_time' : 'last',\n",
    "    'osrm_distance' : 'last',\n",
    "\n",
    "    'segment_actual_time_sum' : 'last',\n",
    "    'segment_osrm_distance_sum' : 'last',\n",
    "    'segment_osrm_time_sum' : 'last',\n",
    "\n",
    "    }\n",
    "\n",
    "segment = df.groupby('segment_key').agg(create_segment_dict).reset_index()\n",
    "segment = segment.sort_values(by=['segment_key','od_end_time'], ascending=True).reset_index()\n",
    "segment.head()"
   ]
  },
  {
   "cell_type": "markdown",
   "id": "e7473926",
   "metadata": {},
   "source": [
    "### 3. Feature Engineering"
   ]
  },
  {
   "cell_type": "markdown",
   "id": "dc258f52",
   "metadata": {},
   "source": [
    "**Extract features from the below fields:**\n",
    "-  Calculate time taken between od_start_time and od_end_time."
   ]
  },
  {
   "cell_type": "code",
   "execution_count": 15,
   "id": "ec4ac653",
   "metadata": {},
   "outputs": [
    {
     "data": {
      "text/plain": [
       "0        21.010074\n",
       "1        16.658423\n",
       "2         0.980540\n",
       "3         2.046325\n",
       "4        13.910649\n",
       "           ...    \n",
       "26217     1.035253\n",
       "26218     1.518130\n",
       "26219     0.736240\n",
       "26220     4.791233\n",
       "26221     1.115559\n",
       "Name: od_time_diff_hour, Length: 26222, dtype: float64"
      ]
     },
     "execution_count": 15,
     "metadata": {},
     "output_type": "execute_result"
    }
   ],
   "source": [
    "segment['od_time_diff_hour'] = (segment['od_end_time'] - segment['od_start_time']).dt.total_seconds() /(3600)\n",
    "segment['od_time_diff_hour']"
   ]
  },
  {
   "cell_type": "markdown",
   "id": "b1a30bd4",
   "metadata": {},
   "source": [
    "**Extracting features out of source_name and destination_name variables.**"
   ]
  },
  {
   "cell_type": "code",
   "execution_count": 16,
   "id": "a92f9740",
   "metadata": {},
   "outputs": [],
   "source": [
    "#Transform all the values in this two columns to lowercase.\n",
    "segment['source_name'] =  segment['source_name'].str.lower()\n",
    "segment['destination_name'] = segment['destination_name'].str.lower()\n"
   ]
  },
  {
   "cell_type": "code",
   "execution_count": 17,
   "id": "06297fdb",
   "metadata": {},
   "outputs": [],
   "source": [
    "#format = city_place_code (state)\n",
    "\n",
    "def state(x):                       #Extracting state\n",
    "    state = x.split('(')[1]\n",
    "    return state[:-1]\n",
    "\n",
    "def city(x):                        #Extracting city\n",
    "    x = x.split(' (')[0]             #removing state\n",
    "    city = x.split('_')[0]           #splitting city_place_code\n",
    "    \n",
    "    #edge cases\n",
    "    if city in ['mumbai antop hill','lowerparel','bom','mumbai hub']:\n",
    "        return 'mumbai'\n",
    "    elif city == 'pnq vadgaon sheri dpc':\n",
    "        return 'vadgaonsheri'\n",
    "    elif city in ['pnq pashan dpc','pnq rahatani dpc', 'pune balaji nagar']:\n",
    "        return 'pune'\n",
    "    elif city in ['bangalore', 'hbr layout pc', 'blr']: \n",
    "        return 'bengaluru'\n",
    "    elif city == 'bhopal mp nagar' : \n",
    "        return 'bhopal'\n",
    "    elif city == 'amd':\n",
    "        city = 'ahmedabad'\n",
    "    elif city == 'ccu':\n",
    "        city = 'kolkata'\n",
    "    elif city == 'ggn':\n",
    "        city == 'gurgaon'\n",
    "    elif city == 'gzb':\n",
    "        city = 'ghaziabad'\n",
    "    \n",
    "    return city\n",
    "\n",
    "def place(x):                       #Extracting place\n",
    "    x = x.split(' (')[0]             #removing state\n",
    "    a = x.split('_')\n",
    "    if len(a) >= 3:\n",
    "        return a[1]\n",
    "    elif len(a) == 2:               #small cities have same city and place name\n",
    "        return a[0]        \n",
    "    return x.split(' ')[0]          #dealing with improper name convention\n",
    "\n",
    "def code(x):                        #Extracting code\n",
    "    x = x.split(' (')[0]             #removing state\n",
    "    if len(x.split('_')) >=3:\n",
    "        return x.split('_')[-1]\n",
    "    return 'none'\n"
   ]
  },
  {
   "cell_type": "code",
   "execution_count": 18,
   "id": "02b27aa0",
   "metadata": {},
   "outputs": [],
   "source": [
    "# Extracting from source_name\n",
    "segment['source_state'] = segment['source_name'].apply(lambda x: state(x))\n",
    "segment['source_city'] = segment['source_name'].apply(lambda x: city(x))\n",
    "segment['source_place'] = segment['source_name'].apply(lambda x: place(x))\n",
    "segment['source_code'] = segment['source_name'].apply(lambda x: code(x))\n"
   ]
  },
  {
   "cell_type": "code",
   "execution_count": 19,
   "id": "d93663d8",
   "metadata": {},
   "outputs": [
    {
     "data": {
      "text/html": [
       "<div>\n",
       "<style scoped>\n",
       "    .dataframe tbody tr th:only-of-type {\n",
       "        vertical-align: middle;\n",
       "    }\n",
       "\n",
       "    .dataframe tbody tr th {\n",
       "        vertical-align: top;\n",
       "    }\n",
       "\n",
       "    .dataframe thead th {\n",
       "        text-align: right;\n",
       "    }\n",
       "</style>\n",
       "<table border=\"1\" class=\"dataframe\">\n",
       "  <thead>\n",
       "    <tr style=\"text-align: right;\">\n",
       "      <th></th>\n",
       "      <th>source_state</th>\n",
       "      <th>source_city</th>\n",
       "      <th>source_place</th>\n",
       "      <th>source_code</th>\n",
       "    </tr>\n",
       "  </thead>\n",
       "  <tbody>\n",
       "    <tr>\n",
       "      <th>0</th>\n",
       "      <td>uttar pradesh</td>\n",
       "      <td>kanpur</td>\n",
       "      <td>central</td>\n",
       "      <td>6</td>\n",
       "    </tr>\n",
       "    <tr>\n",
       "      <th>1</th>\n",
       "      <td>madhya pradesh</td>\n",
       "      <td>bhopal</td>\n",
       "      <td>trnsport</td>\n",
       "      <td>h</td>\n",
       "    </tr>\n",
       "    <tr>\n",
       "      <th>2</th>\n",
       "      <td>karnataka</td>\n",
       "      <td>doddablpur</td>\n",
       "      <td>chikadpp</td>\n",
       "      <td>d</td>\n",
       "    </tr>\n",
       "    <tr>\n",
       "      <th>3</th>\n",
       "      <td>karnataka</td>\n",
       "      <td>tumkur</td>\n",
       "      <td>veersagr</td>\n",
       "      <td>i</td>\n",
       "    </tr>\n",
       "    <tr>\n",
       "      <th>4</th>\n",
       "      <td>haryana</td>\n",
       "      <td>gurgaon</td>\n",
       "      <td>bilaspur</td>\n",
       "      <td>hb</td>\n",
       "    </tr>\n",
       "    <tr>\n",
       "      <th>...</th>\n",
       "      <td>...</td>\n",
       "      <td>...</td>\n",
       "      <td>...</td>\n",
       "      <td>...</td>\n",
       "    </tr>\n",
       "    <tr>\n",
       "      <th>26217</th>\n",
       "      <td>tamil nadu</td>\n",
       "      <td>tirchchndr</td>\n",
       "      <td>shnmgprm</td>\n",
       "      <td>d</td>\n",
       "    </tr>\n",
       "    <tr>\n",
       "      <th>26218</th>\n",
       "      <td>tamil nadu</td>\n",
       "      <td>peikulam</td>\n",
       "      <td>srivnktpm</td>\n",
       "      <td>d</td>\n",
       "    </tr>\n",
       "    <tr>\n",
       "      <th>26219</th>\n",
       "      <td>tamil nadu</td>\n",
       "      <td>eral</td>\n",
       "      <td>busstand</td>\n",
       "      <td>d</td>\n",
       "    </tr>\n",
       "    <tr>\n",
       "      <th>26220</th>\n",
       "      <td>karnataka</td>\n",
       "      <td>sandur</td>\n",
       "      <td>wrdn1dpp</td>\n",
       "      <td>d</td>\n",
       "    </tr>\n",
       "    <tr>\n",
       "      <th>26221</th>\n",
       "      <td>karnataka</td>\n",
       "      <td>hospet</td>\n",
       "      <td>hospet</td>\n",
       "      <td>none</td>\n",
       "    </tr>\n",
       "  </tbody>\n",
       "</table>\n",
       "<p>26222 rows × 4 columns</p>\n",
       "</div>"
      ],
      "text/plain": [
       "         source_state source_city source_place source_code\n",
       "0       uttar pradesh      kanpur      central           6\n",
       "1      madhya pradesh      bhopal     trnsport           h\n",
       "2           karnataka  doddablpur     chikadpp           d\n",
       "3           karnataka      tumkur     veersagr           i\n",
       "4             haryana     gurgaon     bilaspur          hb\n",
       "...               ...         ...          ...         ...\n",
       "26217      tamil nadu  tirchchndr     shnmgprm           d\n",
       "26218      tamil nadu    peikulam    srivnktpm           d\n",
       "26219      tamil nadu        eral     busstand           d\n",
       "26220       karnataka      sandur     wrdn1dpp           d\n",
       "26221       karnataka      hospet       hospet        none\n",
       "\n",
       "[26222 rows x 4 columns]"
      ]
     },
     "execution_count": 19,
     "metadata": {},
     "output_type": "execute_result"
    }
   ],
   "source": [
    "segment[['source_state', 'source_city', 'source_place', 'source_code']]"
   ]
  },
  {
   "cell_type": "code",
   "execution_count": 20,
   "id": "46639603",
   "metadata": {},
   "outputs": [],
   "source": [
    "# Extracting from destination_name\n",
    "segment['destination_state'] = segment['destination_name'].apply(lambda x: state(x))\n",
    "segment['destination_city'] = segment['destination_name'].apply(lambda x: city(x))\n",
    "segment['destination_place'] = segment['destination_name'].apply(lambda x: place(x))\n",
    "segment['destination_code'] = segment['destination_name'].apply(lambda x: code(x))"
   ]
  },
  {
   "cell_type": "code",
   "execution_count": 21,
   "id": "430a227f",
   "metadata": {},
   "outputs": [
    {
     "data": {
      "text/html": [
       "<div>\n",
       "<style scoped>\n",
       "    .dataframe tbody tr th:only-of-type {\n",
       "        vertical-align: middle;\n",
       "    }\n",
       "\n",
       "    .dataframe tbody tr th {\n",
       "        vertical-align: top;\n",
       "    }\n",
       "\n",
       "    .dataframe thead th {\n",
       "        text-align: right;\n",
       "    }\n",
       "</style>\n",
       "<table border=\"1\" class=\"dataframe\">\n",
       "  <thead>\n",
       "    <tr style=\"text-align: right;\">\n",
       "      <th></th>\n",
       "      <th>destination_state</th>\n",
       "      <th>destination_city</th>\n",
       "      <th>destination_place</th>\n",
       "      <th>destination_code</th>\n",
       "    </tr>\n",
       "  </thead>\n",
       "  <tbody>\n",
       "    <tr>\n",
       "      <th>0</th>\n",
       "      <td>haryana</td>\n",
       "      <td>gurgaon</td>\n",
       "      <td>bilaspur</td>\n",
       "      <td>hb</td>\n",
       "    </tr>\n",
       "    <tr>\n",
       "      <th>1</th>\n",
       "      <td>uttar pradesh</td>\n",
       "      <td>kanpur</td>\n",
       "      <td>central</td>\n",
       "      <td>6</td>\n",
       "    </tr>\n",
       "    <tr>\n",
       "      <th>2</th>\n",
       "      <td>karnataka</td>\n",
       "      <td>chikblapur</td>\n",
       "      <td>shntisgr</td>\n",
       "      <td>d</td>\n",
       "    </tr>\n",
       "    <tr>\n",
       "      <th>3</th>\n",
       "      <td>karnataka</td>\n",
       "      <td>doddablpur</td>\n",
       "      <td>chikadpp</td>\n",
       "      <td>d</td>\n",
       "    </tr>\n",
       "    <tr>\n",
       "      <th>4</th>\n",
       "      <td>punjab</td>\n",
       "      <td>chandigarh</td>\n",
       "      <td>mehmdpur</td>\n",
       "      <td>h</td>\n",
       "    </tr>\n",
       "    <tr>\n",
       "      <th>...</th>\n",
       "      <td>...</td>\n",
       "      <td>...</td>\n",
       "      <td>...</td>\n",
       "      <td>...</td>\n",
       "    </tr>\n",
       "    <tr>\n",
       "      <th>26217</th>\n",
       "      <td>tamil nadu</td>\n",
       "      <td>thisayanvilai</td>\n",
       "      <td>udnkdird</td>\n",
       "      <td>d</td>\n",
       "    </tr>\n",
       "    <tr>\n",
       "      <th>26218</th>\n",
       "      <td>tamil nadu</td>\n",
       "      <td>tirunelveli</td>\n",
       "      <td>vdkkusrt</td>\n",
       "      <td>i</td>\n",
       "    </tr>\n",
       "    <tr>\n",
       "      <th>26219</th>\n",
       "      <td>tamil nadu</td>\n",
       "      <td>tirchchndr</td>\n",
       "      <td>shnmgprm</td>\n",
       "      <td>d</td>\n",
       "    </tr>\n",
       "    <tr>\n",
       "      <th>26220</th>\n",
       "      <td>karnataka</td>\n",
       "      <td>bellary</td>\n",
       "      <td>bellary</td>\n",
       "      <td>none</td>\n",
       "    </tr>\n",
       "    <tr>\n",
       "      <th>26221</th>\n",
       "      <td>karnataka</td>\n",
       "      <td>sandur</td>\n",
       "      <td>wrdn1dpp</td>\n",
       "      <td>d</td>\n",
       "    </tr>\n",
       "  </tbody>\n",
       "</table>\n",
       "<p>26222 rows × 4 columns</p>\n",
       "</div>"
      ],
      "text/plain": [
       "      destination_state destination_city destination_place destination_code\n",
       "0               haryana          gurgaon          bilaspur               hb\n",
       "1         uttar pradesh           kanpur           central                6\n",
       "2             karnataka       chikblapur          shntisgr                d\n",
       "3             karnataka       doddablpur          chikadpp                d\n",
       "4                punjab       chandigarh          mehmdpur                h\n",
       "...                 ...              ...               ...              ...\n",
       "26217        tamil nadu    thisayanvilai          udnkdird                d\n",
       "26218        tamil nadu      tirunelveli          vdkkusrt                i\n",
       "26219        tamil nadu       tirchchndr          shnmgprm                d\n",
       "26220         karnataka          bellary           bellary             none\n",
       "26221         karnataka           sandur          wrdn1dpp                d\n",
       "\n",
       "[26222 rows x 4 columns]"
      ]
     },
     "execution_count": 21,
     "metadata": {},
     "output_type": "execute_result"
    }
   ],
   "source": [
    "segment[['destination_state','destination_city','destination_place','destination_code']]"
   ]
  },
  {
   "cell_type": "markdown",
   "id": "f16951aa",
   "metadata": {},
   "source": [
    "**Extracting features from Trip_creation_time variable.**"
   ]
  },
  {
   "cell_type": "code",
   "execution_count": 22,
   "id": "646ff912",
   "metadata": {},
   "outputs": [],
   "source": [
    "\n",
    "segment['trip_year'] = segment['trip_creation_time'].dt.year\n",
    "segment['trip_month'] = segment['trip_creation_time'].dt.month\n",
    "segment['trip_day'] = segment['trip_creation_time'].dt.day\n",
    "segment['trip_day_of_week'] = segment['trip_creation_time'].dt.dayofweek"
   ]
  },
  {
   "cell_type": "code",
   "execution_count": 23,
   "id": "2d1b3c26",
   "metadata": {},
   "outputs": [
    {
     "data": {
      "text/html": [
       "<div>\n",
       "<style scoped>\n",
       "    .dataframe tbody tr th:only-of-type {\n",
       "        vertical-align: middle;\n",
       "    }\n",
       "\n",
       "    .dataframe tbody tr th {\n",
       "        vertical-align: top;\n",
       "    }\n",
       "\n",
       "    .dataframe thead th {\n",
       "        text-align: right;\n",
       "    }\n",
       "</style>\n",
       "<table border=\"1\" class=\"dataframe\">\n",
       "  <thead>\n",
       "    <tr style=\"text-align: right;\">\n",
       "      <th></th>\n",
       "      <th>trip_year</th>\n",
       "      <th>trip_month</th>\n",
       "      <th>trip_day</th>\n",
       "      <th>trip_day_of_week</th>\n",
       "    </tr>\n",
       "  </thead>\n",
       "  <tbody>\n",
       "    <tr>\n",
       "      <th>0</th>\n",
       "      <td>2018</td>\n",
       "      <td>9</td>\n",
       "      <td>12</td>\n",
       "      <td>2</td>\n",
       "    </tr>\n",
       "    <tr>\n",
       "      <th>1</th>\n",
       "      <td>2018</td>\n",
       "      <td>9</td>\n",
       "      <td>12</td>\n",
       "      <td>2</td>\n",
       "    </tr>\n",
       "    <tr>\n",
       "      <th>2</th>\n",
       "      <td>2018</td>\n",
       "      <td>9</td>\n",
       "      <td>12</td>\n",
       "      <td>2</td>\n",
       "    </tr>\n",
       "    <tr>\n",
       "      <th>3</th>\n",
       "      <td>2018</td>\n",
       "      <td>9</td>\n",
       "      <td>12</td>\n",
       "      <td>2</td>\n",
       "    </tr>\n",
       "    <tr>\n",
       "      <th>4</th>\n",
       "      <td>2018</td>\n",
       "      <td>9</td>\n",
       "      <td>12</td>\n",
       "      <td>2</td>\n",
       "    </tr>\n",
       "    <tr>\n",
       "      <th>...</th>\n",
       "      <td>...</td>\n",
       "      <td>...</td>\n",
       "      <td>...</td>\n",
       "      <td>...</td>\n",
       "    </tr>\n",
       "    <tr>\n",
       "      <th>26217</th>\n",
       "      <td>2018</td>\n",
       "      <td>10</td>\n",
       "      <td>3</td>\n",
       "      <td>2</td>\n",
       "    </tr>\n",
       "    <tr>\n",
       "      <th>26218</th>\n",
       "      <td>2018</td>\n",
       "      <td>10</td>\n",
       "      <td>3</td>\n",
       "      <td>2</td>\n",
       "    </tr>\n",
       "    <tr>\n",
       "      <th>26219</th>\n",
       "      <td>2018</td>\n",
       "      <td>10</td>\n",
       "      <td>3</td>\n",
       "      <td>2</td>\n",
       "    </tr>\n",
       "    <tr>\n",
       "      <th>26220</th>\n",
       "      <td>2018</td>\n",
       "      <td>10</td>\n",
       "      <td>3</td>\n",
       "      <td>2</td>\n",
       "    </tr>\n",
       "    <tr>\n",
       "      <th>26221</th>\n",
       "      <td>2018</td>\n",
       "      <td>10</td>\n",
       "      <td>3</td>\n",
       "      <td>2</td>\n",
       "    </tr>\n",
       "  </tbody>\n",
       "</table>\n",
       "<p>26222 rows × 4 columns</p>\n",
       "</div>"
      ],
      "text/plain": [
       "       trip_year  trip_month  trip_day  trip_day_of_week\n",
       "0           2018           9        12                 2\n",
       "1           2018           9        12                 2\n",
       "2           2018           9        12                 2\n",
       "3           2018           9        12                 2\n",
       "4           2018           9        12                 2\n",
       "...          ...         ...       ...               ...\n",
       "26217       2018          10         3                 2\n",
       "26218       2018          10         3                 2\n",
       "26219       2018          10         3                 2\n",
       "26220       2018          10         3                 2\n",
       "26221       2018          10         3                 2\n",
       "\n",
       "[26222 rows x 4 columns]"
      ]
     },
     "execution_count": 23,
     "metadata": {},
     "output_type": "execute_result"
    }
   ],
   "source": [
    "segment[['trip_year', 'trip_month', 'trip_day', 'trip_day_of_week']]"
   ]
  },
  {
   "cell_type": "markdown",
   "id": "9e8958fc",
   "metadata": {},
   "source": [
    "## 4. In-depth analysis"
   ]
  },
  {
   "cell_type": "markdown",
   "id": "db6d6bad",
   "metadata": {},
   "source": [
    "### 4.1 Grouping at trip level\n",
    "\n",
    "- **Holistic View of the Trip**: After aggregating data at the segment level, aggregating at the trip level combines all segments of a trip into one record. \n",
    "- Group segment data by **trip_uuid**, which identifies each unique trip. This allows you to consolidate information from all segments of the trip into a single record."
   ]
  },
  {
   "cell_type": "code",
   "execution_count": 24,
   "id": "3558b9a4",
   "metadata": {},
   "outputs": [],
   "source": [
    "create_trip_dict = {\n",
    "\n",
    "    'data' : 'first',\n",
    "    'trip_creation_time': 'first',\n",
    "    'route_schedule_uuid' : 'first',\n",
    "    'route_type' : 'first',\n",
    "    'trip_uuid' : 'first',\n",
    "\n",
    "    'source_center' : 'first',\n",
    "    'source_name' : 'first',\n",
    "\n",
    "    'destination_center' : 'last',\n",
    "    'destination_name' : 'last',\n",
    "    \n",
    "    'source_state' : 'first',\n",
    "    'destination_state' : 'last',\n",
    "    \n",
    "    'source_city' : 'first',\n",
    "    'source_place' : 'first',\n",
    "    'source_code' : 'first',\n",
    "    \n",
    "    'destination_city' : 'last',\n",
    "    'destination_place' : 'last',\n",
    "    'destination_code' : 'last',\n",
    "\n",
    "    'start_scan_to_end_scan' : 'sum',\n",
    "    'od_time_diff_hour' : 'sum',\n",
    "\n",
    "    'actual_distance_to_destination' : 'sum',\n",
    "    'actual_time' : 'sum',\n",
    "    'osrm_time' : 'sum',\n",
    "    'osrm_distance' : 'sum',\n",
    "\n",
    "    'segment_actual_time_sum' : 'sum',\n",
    "    'segment_osrm_distance_sum' : 'sum',\n",
    "    'segment_osrm_time_sum' : 'sum',\n",
    "\n",
    "    }"
   ]
  },
  {
   "cell_type": "code",
   "execution_count": 25,
   "id": "7479ab6e",
   "metadata": {},
   "outputs": [
    {
     "data": {
      "text/html": [
       "<div>\n",
       "<style scoped>\n",
       "    .dataframe tbody tr th:only-of-type {\n",
       "        vertical-align: middle;\n",
       "    }\n",
       "\n",
       "    .dataframe tbody tr th {\n",
       "        vertical-align: top;\n",
       "    }\n",
       "\n",
       "    .dataframe thead th {\n",
       "        text-align: right;\n",
       "    }\n",
       "</style>\n",
       "<table border=\"1\" class=\"dataframe\">\n",
       "  <thead>\n",
       "    <tr style=\"text-align: right;\">\n",
       "      <th></th>\n",
       "      <th>data</th>\n",
       "      <th>trip_creation_time</th>\n",
       "      <th>route_schedule_uuid</th>\n",
       "      <th>route_type</th>\n",
       "      <th>trip_uuid</th>\n",
       "      <th>source_center</th>\n",
       "      <th>source_name</th>\n",
       "      <th>destination_center</th>\n",
       "      <th>destination_name</th>\n",
       "      <th>source_state</th>\n",
       "      <th>...</th>\n",
       "      <th>destination_code</th>\n",
       "      <th>start_scan_to_end_scan</th>\n",
       "      <th>od_time_diff_hour</th>\n",
       "      <th>actual_distance_to_destination</th>\n",
       "      <th>actual_time</th>\n",
       "      <th>osrm_time</th>\n",
       "      <th>osrm_distance</th>\n",
       "      <th>segment_actual_time_sum</th>\n",
       "      <th>segment_osrm_distance_sum</th>\n",
       "      <th>segment_osrm_time_sum</th>\n",
       "    </tr>\n",
       "  </thead>\n",
       "  <tbody>\n",
       "    <tr>\n",
       "      <th>0</th>\n",
       "      <td>training</td>\n",
       "      <td>2018-09-12 00:00:16.535741</td>\n",
       "      <td>thanos::sroute:d7c989ba-a29b-4a0b-b2f4-288cdc6...</td>\n",
       "      <td>FTL</td>\n",
       "      <td>trip-153671041653548748</td>\n",
       "      <td>IND209304AAA</td>\n",
       "      <td>kanpur_central_h_6 (uttar pradesh)</td>\n",
       "      <td>IND209304AAA</td>\n",
       "      <td>kanpur_central_h_6 (uttar pradesh)</td>\n",
       "      <td>uttar pradesh</td>\n",
       "      <td>...</td>\n",
       "      <td>6</td>\n",
       "      <td>2259.0</td>\n",
       "      <td>37.668497</td>\n",
       "      <td>824.732854</td>\n",
       "      <td>1562.0</td>\n",
       "      <td>717.0</td>\n",
       "      <td>991.3523</td>\n",
       "      <td>1548.0</td>\n",
       "      <td>1320.4733</td>\n",
       "      <td>1008.0</td>\n",
       "    </tr>\n",
       "    <tr>\n",
       "      <th>1</th>\n",
       "      <td>training</td>\n",
       "      <td>2018-09-12 00:00:22.886430</td>\n",
       "      <td>thanos::sroute:3a1b0ab2-bb0b-4c53-8c59-eb2a2c0...</td>\n",
       "      <td>Carting</td>\n",
       "      <td>trip-153671042288605164</td>\n",
       "      <td>IND561203AAB</td>\n",
       "      <td>doddablpur_chikadpp_d (karnataka)</td>\n",
       "      <td>IND561203AAB</td>\n",
       "      <td>doddablpur_chikadpp_d (karnataka)</td>\n",
       "      <td>karnataka</td>\n",
       "      <td>...</td>\n",
       "      <td>d</td>\n",
       "      <td>180.0</td>\n",
       "      <td>3.026865</td>\n",
       "      <td>73.186911</td>\n",
       "      <td>143.0</td>\n",
       "      <td>68.0</td>\n",
       "      <td>85.1110</td>\n",
       "      <td>141.0</td>\n",
       "      <td>84.1894</td>\n",
       "      <td>65.0</td>\n",
       "    </tr>\n",
       "    <tr>\n",
       "      <th>2</th>\n",
       "      <td>training</td>\n",
       "      <td>2018-09-12 00:00:33.691250</td>\n",
       "      <td>thanos::sroute:de5e208e-7641-45e6-8100-4d9fb1e...</td>\n",
       "      <td>FTL</td>\n",
       "      <td>trip-153671043369099517</td>\n",
       "      <td>IND000000ACB</td>\n",
       "      <td>gurgaon_bilaspur_hb (haryana)</td>\n",
       "      <td>IND000000ACB</td>\n",
       "      <td>gurgaon_bilaspur_hb (haryana)</td>\n",
       "      <td>haryana</td>\n",
       "      <td>...</td>\n",
       "      <td>hb</td>\n",
       "      <td>3933.0</td>\n",
       "      <td>65.572709</td>\n",
       "      <td>1927.404273</td>\n",
       "      <td>3347.0</td>\n",
       "      <td>1740.0</td>\n",
       "      <td>2354.0665</td>\n",
       "      <td>3308.0</td>\n",
       "      <td>2545.2678</td>\n",
       "      <td>1941.0</td>\n",
       "    </tr>\n",
       "    <tr>\n",
       "      <th>3</th>\n",
       "      <td>training</td>\n",
       "      <td>2018-09-12 00:01:00.113710</td>\n",
       "      <td>thanos::sroute:f0176492-a679-4597-8332-bbd1c7f...</td>\n",
       "      <td>Carting</td>\n",
       "      <td>trip-153671046011330457</td>\n",
       "      <td>IND400072AAB</td>\n",
       "      <td>mumbai hub (maharashtra)</td>\n",
       "      <td>IND401104AAA</td>\n",
       "      <td>mumbai_mirard_ip (maharashtra)</td>\n",
       "      <td>maharashtra</td>\n",
       "      <td>...</td>\n",
       "      <td>ip</td>\n",
       "      <td>100.0</td>\n",
       "      <td>1.674916</td>\n",
       "      <td>17.175274</td>\n",
       "      <td>59.0</td>\n",
       "      <td>15.0</td>\n",
       "      <td>19.6800</td>\n",
       "      <td>59.0</td>\n",
       "      <td>19.8766</td>\n",
       "      <td>16.0</td>\n",
       "    </tr>\n",
       "    <tr>\n",
       "      <th>4</th>\n",
       "      <td>training</td>\n",
       "      <td>2018-09-12 00:02:09.740725</td>\n",
       "      <td>thanos::sroute:d9f07b12-65e0-4f3b-bec8-df06134...</td>\n",
       "      <td>FTL</td>\n",
       "      <td>trip-153671052974046625</td>\n",
       "      <td>IND583101AAA</td>\n",
       "      <td>bellary_dc (karnataka)</td>\n",
       "      <td>IND583119AAA</td>\n",
       "      <td>sandur_wrdn1dpp_d (karnataka)</td>\n",
       "      <td>karnataka</td>\n",
       "      <td>...</td>\n",
       "      <td>d</td>\n",
       "      <td>717.0</td>\n",
       "      <td>11.972484</td>\n",
       "      <td>127.448500</td>\n",
       "      <td>341.0</td>\n",
       "      <td>117.0</td>\n",
       "      <td>146.7918</td>\n",
       "      <td>340.0</td>\n",
       "      <td>146.7919</td>\n",
       "      <td>115.0</td>\n",
       "    </tr>\n",
       "  </tbody>\n",
       "</table>\n",
       "<p>5 rows × 26 columns</p>\n",
       "</div>"
      ],
      "text/plain": [
       "       data         trip_creation_time  \\\n",
       "0  training 2018-09-12 00:00:16.535741   \n",
       "1  training 2018-09-12 00:00:22.886430   \n",
       "2  training 2018-09-12 00:00:33.691250   \n",
       "3  training 2018-09-12 00:01:00.113710   \n",
       "4  training 2018-09-12 00:02:09.740725   \n",
       "\n",
       "                                 route_schedule_uuid route_type  \\\n",
       "0  thanos::sroute:d7c989ba-a29b-4a0b-b2f4-288cdc6...        FTL   \n",
       "1  thanos::sroute:3a1b0ab2-bb0b-4c53-8c59-eb2a2c0...    Carting   \n",
       "2  thanos::sroute:de5e208e-7641-45e6-8100-4d9fb1e...        FTL   \n",
       "3  thanos::sroute:f0176492-a679-4597-8332-bbd1c7f...    Carting   \n",
       "4  thanos::sroute:d9f07b12-65e0-4f3b-bec8-df06134...        FTL   \n",
       "\n",
       "                 trip_uuid source_center                         source_name  \\\n",
       "0  trip-153671041653548748  IND209304AAA  kanpur_central_h_6 (uttar pradesh)   \n",
       "1  trip-153671042288605164  IND561203AAB   doddablpur_chikadpp_d (karnataka)   \n",
       "2  trip-153671043369099517  IND000000ACB       gurgaon_bilaspur_hb (haryana)   \n",
       "3  trip-153671046011330457  IND400072AAB            mumbai hub (maharashtra)   \n",
       "4  trip-153671052974046625  IND583101AAA              bellary_dc (karnataka)   \n",
       "\n",
       "  destination_center                    destination_name   source_state  ...  \\\n",
       "0       IND209304AAA  kanpur_central_h_6 (uttar pradesh)  uttar pradesh  ...   \n",
       "1       IND561203AAB   doddablpur_chikadpp_d (karnataka)      karnataka  ...   \n",
       "2       IND000000ACB       gurgaon_bilaspur_hb (haryana)        haryana  ...   \n",
       "3       IND401104AAA      mumbai_mirard_ip (maharashtra)    maharashtra  ...   \n",
       "4       IND583119AAA       sandur_wrdn1dpp_d (karnataka)      karnataka  ...   \n",
       "\n",
       "  destination_code start_scan_to_end_scan od_time_diff_hour  \\\n",
       "0                6                 2259.0         37.668497   \n",
       "1                d                  180.0          3.026865   \n",
       "2               hb                 3933.0         65.572709   \n",
       "3               ip                  100.0          1.674916   \n",
       "4                d                  717.0         11.972484   \n",
       "\n",
       "  actual_distance_to_destination actual_time osrm_time osrm_distance  \\\n",
       "0                     824.732854      1562.0     717.0      991.3523   \n",
       "1                      73.186911       143.0      68.0       85.1110   \n",
       "2                    1927.404273      3347.0    1740.0     2354.0665   \n",
       "3                      17.175274        59.0      15.0       19.6800   \n",
       "4                     127.448500       341.0     117.0      146.7918   \n",
       "\n",
       "   segment_actual_time_sum  segment_osrm_distance_sum  segment_osrm_time_sum  \n",
       "0                   1548.0                  1320.4733                 1008.0  \n",
       "1                    141.0                    84.1894                   65.0  \n",
       "2                   3308.0                  2545.2678                 1941.0  \n",
       "3                     59.0                    19.8766                   16.0  \n",
       "4                    340.0                   146.7919                  115.0  \n",
       "\n",
       "[5 rows x 26 columns]"
      ]
     },
     "execution_count": 25,
     "metadata": {},
     "output_type": "execute_result"
    }
   ],
   "source": [
    "trip = segment.groupby('trip_uuid').agg(create_trip_dict).reset_index(drop = True)\n",
    "trip.head()"
   ]
  },
  {
   "cell_type": "markdown",
   "id": "d5f4f711",
   "metadata": {},
   "source": [
    "#### **Why These Steps Are Important:**\n",
    "- Aggregating segment-level data allows for detailed performance evaluation of individual parts of the trip, while trip-level aggregation provides a complete view of the entire journey.\n",
    "\n",
    "- By comparing aggregated segment and trip data, you can assess the accuracy of estimated times/distances, identify delays or inefficiencies, and make data-driven decisions to improve logistics.\n",
    "\n",
    "- Aggregating data helps in simplifying complex datasets with multiple rows for each trip, making it easier to analyze and interpret the overall performance metrics.\n",
    "\n",
    "Overall, these aggregation steps are crucial for transforming detailed segment-level data into actionable insights at the trip level, facilitating better analysis and decision-making in logistics operations."
   ]
  },
  {
   "cell_type": "markdown",
   "id": "070b93e1",
   "metadata": {},
   "source": [
    "### 4.2 Outlier detection & treatment"
   ]
  },
  {
   "cell_type": "code",
   "execution_count": 26,
   "id": "e8372b0b",
   "metadata": {},
   "outputs": [
    {
     "name": "stdout",
     "output_type": "stream",
     "text": [
      "<class 'pandas.core.frame.DataFrame'>\n",
      "RangeIndex: 14787 entries, 0 to 14786\n",
      "Data columns (total 26 columns):\n",
      " #   Column                          Non-Null Count  Dtype         \n",
      "---  ------                          --------------  -----         \n",
      " 0   data                            14787 non-null  object        \n",
      " 1   trip_creation_time              14787 non-null  datetime64[ns]\n",
      " 2   route_schedule_uuid             14787 non-null  object        \n",
      " 3   route_type                      14787 non-null  object        \n",
      " 4   trip_uuid                       14787 non-null  object        \n",
      " 5   source_center                   14787 non-null  object        \n",
      " 6   source_name                     14787 non-null  object        \n",
      " 7   destination_center              14787 non-null  object        \n",
      " 8   destination_name                14787 non-null  object        \n",
      " 9   source_state                    14787 non-null  object        \n",
      " 10  destination_state               14787 non-null  object        \n",
      " 11  source_city                     14787 non-null  object        \n",
      " 12  source_place                    14787 non-null  object        \n",
      " 13  source_code                     14787 non-null  object        \n",
      " 14  destination_city                14787 non-null  object        \n",
      " 15  destination_place               14787 non-null  object        \n",
      " 16  destination_code                14787 non-null  object        \n",
      " 17  start_scan_to_end_scan          14787 non-null  float64       \n",
      " 18  od_time_diff_hour               14787 non-null  float64       \n",
      " 19  actual_distance_to_destination  14787 non-null  float64       \n",
      " 20  actual_time                     14787 non-null  float64       \n",
      " 21  osrm_time                       14787 non-null  float64       \n",
      " 22  osrm_distance                   14787 non-null  float64       \n",
      " 23  segment_actual_time_sum         14787 non-null  float64       \n",
      " 24  segment_osrm_distance_sum       14787 non-null  float64       \n",
      " 25  segment_osrm_time_sum           14787 non-null  float64       \n",
      "dtypes: datetime64[ns](1), float64(9), object(16)\n",
      "memory usage: 2.9+ MB\n"
     ]
    }
   ],
   "source": [
    "trip.info()"
   ]
  },
  {
   "cell_type": "markdown",
   "id": "3eaa7b76",
   "metadata": {},
   "source": [
    "- **Identifying outliers in numerical variables and visualizing them with a boxplot.**"
   ]
  },
  {
   "cell_type": "code",
   "execution_count": 27,
   "id": "4f0f0198",
   "metadata": {},
   "outputs": [],
   "source": [
    "num_cols = ['start_scan_to_end_scan', 'od_time_diff_hour', 'actual_distance_to_destination', 'actual_time', 'osrm_time',\n",
    "            'osrm_distance', 'segment_actual_time_sum', 'segment_osrm_distance_sum',\n",
    "            'segment_osrm_time_sum']"
   ]
  },
  {
   "cell_type": "code",
   "execution_count": 28,
   "id": "da8576a8",
   "metadata": {},
   "outputs": [
    {
     "data": {
      "text/plain": [
       "<AxesSubplot:>"
      ]
     },
     "execution_count": 28,
     "metadata": {},
     "output_type": "execute_result"
    },
    {
     "data": {
      "image/png": "[encoded data removed]",
      "text/plain": [
       "<Figure size 1800x720 with 1 Axes>"
      ]
     },
     "metadata": {
      "needs_background": "light"
     },
     "output_type": "display_data"
    }
   ],
   "source": [
    "trip[num_cols].boxplot(rot=25,figsize=(25,10))"
   ]
  },
  {
   "cell_type": "markdown",
   "id": "cf082315",
   "metadata": {},
   "source": [
    "- **Handling the outliers using IQR method**"
   ]
  },
  {
   "cell_type": "code",
   "execution_count": 29,
   "id": "a84581b9",
   "metadata": {},
   "outputs": [
    {
     "name": "stdout",
     "output_type": "stream",
     "text": [
      "No of data points before removing outliers: 14787 \n"
     ]
    }
   ],
   "source": [
    "Q1 = trip[num_cols].quantile(0.25)\n",
    "Q3 = trip[num_cols].quantile(0.75)\n",
    "\n",
    "IQR = Q3 - Q1\n",
    "print(f'No of data points before removing outliers: {trip.shape[0]} ')"
   ]
  },
  {
   "cell_type": "code",
   "execution_count": 30,
   "id": "ce7bf7bf",
   "metadata": {},
   "outputs": [
    {
     "name": "stdout",
     "output_type": "stream",
     "text": [
      "Total no of outlier points: 2064\n"
     ]
    }
   ],
   "source": [
    "outlier_pts = len(trip[((trip[num_cols] < (Q1 - 1.5 * IQR)) | (trip[num_cols] > (Q3 + 1.5 * IQR))).any(axis=1)])\n",
    "print(f'Total no of outlier points: {outlier_pts}')"
   ]
  },
  {
   "cell_type": "code",
   "execution_count": 31,
   "id": "5fa3209d",
   "metadata": {},
   "outputs": [
    {
     "name": "stdout",
     "output_type": "stream",
     "text": [
      "No of data points after removing outliers: 12723 \n"
     ]
    }
   ],
   "source": [
    "trip = trip[~((trip[num_cols] < (Q1 - 1.5 * IQR)) | (trip[num_cols] > (Q3 + 1.5 * IQR))).any(axis=1)]\n",
    "trip = trip.reset_index(drop=True)\n",
    "print(f'No of data points after removing outliers: {trip.shape[0]} ')"
   ]
  },
  {
   "cell_type": "code",
   "execution_count": 32,
   "id": "8bec666e",
   "metadata": {},
   "outputs": [
    {
     "data": {
      "text/plain": [
       "<AxesSubplot:>"
      ]
     },
     "execution_count": 32,
     "metadata": {},
     "output_type": "execute_result"
    },
    {
     "data": {
      "image/png": "[encoded data removed]",
      "text/plain": [
       "<Figure size 1800x720 with 1 Axes>"
      ]
     },
     "metadata": {
      "needs_background": "light"
     },
     "output_type": "display_data"
    }
   ],
   "source": [
    "trip[num_cols].boxplot(rot=25,figsize=(25,10))"
   ]
  },
  {
   "cell_type": "markdown",
   "id": "27a6f66f",
   "metadata": {},
   "source": [
    "### 4.3 Handling categorical variables\n"
   ]
  },
  {
   "cell_type": "markdown",
   "id": "a39aa189",
   "metadata": {},
   "source": [
    "- There is only one categorical variable i.e route_type and has two values FTL,Carting"
   ]
  },
  {
   "cell_type": "code",
   "execution_count": 33,
   "id": "3865acdb",
   "metadata": {},
   "outputs": [
    {
     "data": {
      "text/plain": [
       "Carting    8812\n",
       "FTL        3911\n",
       "Name: route_type, dtype: int64"
      ]
     },
     "execution_count": 33,
     "metadata": {},
     "output_type": "execute_result"
    }
   ],
   "source": [
    "trip['route_type'].value_counts()"
   ]
  },
  {
   "cell_type": "code",
   "execution_count": 34,
   "id": "6797b7a8",
   "metadata": {},
   "outputs": [
    {
     "data": {
      "text/plain": [
       "1    69.260395\n",
       "0    30.739605\n",
       "Name: route_type, dtype: float64"
      ]
     },
     "execution_count": 34,
     "metadata": {},
     "output_type": "execute_result"
    }
   ],
   "source": [
    "#one-hot encoding\n",
    "trip['route_type'] = trip['route_type'].map({'FTL':0, 'Carting':1})\n",
    "route_counts = trip['route_type'].value_counts()\n",
    "trip['route_type'].value_counts(normalize=True) * 100\n",
    "#trip['route_type'].value_counts()"
   ]
  },
  {
   "cell_type": "markdown",
   "id": "574ace81",
   "metadata": {},
   "source": [
    "**Note:**\n",
    "- **69.26% of deliveries are completed via carting, while the remaining 30.73% are handled through FTL**"
   ]
  },
  {
   "cell_type": "code",
   "execution_count": 35,
   "id": "6254bf63",
   "metadata": {},
   "outputs": [
    {
     "data": {
      "text/html": [
       "<div>\n",
       "<style scoped>\n",
       "    .dataframe tbody tr th:only-of-type {\n",
       "        vertical-align: middle;\n",
       "    }\n",
       "\n",
       "    .dataframe tbody tr th {\n",
       "        vertical-align: top;\n",
       "    }\n",
       "\n",
       "    .dataframe thead th {\n",
       "        text-align: right;\n",
       "    }\n",
       "</style>\n",
       "<table border=\"1\" class=\"dataframe\">\n",
       "  <thead>\n",
       "    <tr style=\"text-align: right;\">\n",
       "      <th></th>\n",
       "      <th>source_city</th>\n",
       "      <th>destination_city</th>\n",
       "      <th>trip_count</th>\n",
       "      <th>actual_distance_to_destination</th>\n",
       "      <th>actual_time</th>\n",
       "      <th>osrm_time</th>\n",
       "      <th>segment_osrm_time_sum</th>\n",
       "      <th>segment_actual_time_sum</th>\n",
       "    </tr>\n",
       "  </thead>\n",
       "  <tbody>\n",
       "    <tr>\n",
       "      <th>0</th>\n",
       "      <td>bengaluru</td>\n",
       "      <td>bengaluru</td>\n",
       "      <td>1643</td>\n",
       "      <td>29.984678</td>\n",
       "      <td>85.214851</td>\n",
       "      <td>42.202678</td>\n",
       "      <td>46.975046</td>\n",
       "      <td>84.139988</td>\n",
       "    </tr>\n",
       "    <tr>\n",
       "      <th>1</th>\n",
       "      <td>mumbai</td>\n",
       "      <td>mumbai</td>\n",
       "      <td>757</td>\n",
       "      <td>18.506362</td>\n",
       "      <td>73.071334</td>\n",
       "      <td>21.039630</td>\n",
       "      <td>21.421400</td>\n",
       "      <td>72.667107</td>\n",
       "    </tr>\n",
       "    <tr>\n",
       "      <th>2</th>\n",
       "      <td>bhiwandi</td>\n",
       "      <td>mumbai</td>\n",
       "      <td>436</td>\n",
       "      <td>22.624733</td>\n",
       "      <td>74.316514</td>\n",
       "      <td>25.043578</td>\n",
       "      <td>24.880734</td>\n",
       "      <td>73.708716</td>\n",
       "    </tr>\n",
       "    <tr>\n",
       "      <th>3</th>\n",
       "      <td>hyderabad</td>\n",
       "      <td>hyderabad</td>\n",
       "      <td>349</td>\n",
       "      <td>44.302587</td>\n",
       "      <td>126.446991</td>\n",
       "      <td>43.146132</td>\n",
       "      <td>50.607450</td>\n",
       "      <td>125.277937</td>\n",
       "    </tr>\n",
       "    <tr>\n",
       "      <th>4</th>\n",
       "      <td>mumbai</td>\n",
       "      <td>bhiwandi</td>\n",
       "      <td>270</td>\n",
       "      <td>21.562836</td>\n",
       "      <td>93.933333</td>\n",
       "      <td>24.414815</td>\n",
       "      <td>24.448148</td>\n",
       "      <td>93.355556</td>\n",
       "    </tr>\n",
       "  </tbody>\n",
       "</table>\n",
       "</div>"
      ],
      "text/plain": [
       "  source_city destination_city  trip_count  actual_distance_to_destination  \\\n",
       "0   bengaluru        bengaluru        1643                       29.984678   \n",
       "1      mumbai           mumbai         757                       18.506362   \n",
       "2    bhiwandi           mumbai         436                       22.624733   \n",
       "3   hyderabad        hyderabad         349                       44.302587   \n",
       "4      mumbai         bhiwandi         270                       21.562836   \n",
       "\n",
       "   actual_time  osrm_time  segment_osrm_time_sum  segment_actual_time_sum  \n",
       "0    85.214851  42.202678              46.975046                84.139988  \n",
       "1    73.071334  21.039630              21.421400                72.667107  \n",
       "2    74.316514  25.043578              24.880734                73.708716  \n",
       "3   126.446991  43.146132              50.607450               125.277937  \n",
       "4    93.933333  24.414815              24.448148                93.355556  "
      ]
     },
     "execution_count": 35,
     "metadata": {},
     "output_type": "execute_result"
    }
   ],
   "source": [
    "# Group data by source and destination to get the busiest corridors\n",
    "corridor_data = trip.groupby(['source_city', 'destination_city']).agg({\n",
    "    'trip_uuid': 'count',\n",
    "    'actual_distance_to_destination': 'mean',\n",
    "    'actual_time': 'mean',\n",
    "    'osrm_time' : 'mean',\n",
    "    'segment_osrm_time_sum' : 'mean',\n",
    "    'segment_actual_time_sum' : 'mean'\n",
    "}).reset_index().rename(columns={'trip_uuid': 'trip_count'})\n",
    "\n",
    "# Sort by the busiest corridors (most trips)\n",
    "busiest_corridors = corridor_data.sort_values(by='trip_count', ascending=False).head(10)\n",
    "busiest_corridors.head().reset_index(drop=True)"
   ]
  },
  {
   "cell_type": "markdown",
   "id": "ca240b14",
   "metadata": {},
   "source": [
    "### **Univariate analysis**"
   ]
  },
  {
   "cell_type": "code",
   "execution_count": 36,
   "id": "1e4afbdc",
   "metadata": {},
   "outputs": [
    {
     "data": {
      "image/png": "[encoded data removed]",
      "text/plain": [
       "<Figure size 864x1152 with 9 Axes>"
      ]
     },
     "metadata": {
      "needs_background": "light"
     },
     "output_type": "display_data"
    }
   ],
   "source": [
    "# Create subplots\n",
    "fig, ax = plt.subplots(nrows=5, ncols=2, figsize=(12, 16))\n",
    "\n",
    "for i in range(5):  # number of rows\n",
    "    for j in range(2):  # number of columns\n",
    "        index = i * 2 + j\n",
    "        if index < len(num_cols):\n",
    "            sns.histplot(data=trip, x=num_cols[index], kde=True, ax=ax[i, j])\n",
    "        else:\n",
    "            # Remove empty subplots\n",
    "            fig.delaxes(ax[i, j])\n",
    "\n",
    "# Adjust layout\n",
    "plt.tight_layout()\n",
    "plt.show()\n"
   ]
  },
  {
   "cell_type": "markdown",
   "id": "e3620ac6",
   "metadata": {},
   "source": [
    "**Note:**\n",
    "- The histogram of all numerical variables indicates that the data is right-skewed.\n"
   ]
  },
  {
   "cell_type": "markdown",
   "id": "6ef3f4fe",
   "metadata": {},
   "source": [
    "### Multivariate analysis"
   ]
  },
  {
   "cell_type": "code",
   "execution_count": 37,
   "id": "e801616f",
   "metadata": {},
   "outputs": [
    {
     "data": {
      "image/png": "[encoded data removed]",
      "text/plain": [
       "<Figure size 432x432 with 2 Axes>"
      ]
     },
     "metadata": {
      "needs_background": "light"
     },
     "output_type": "display_data"
    }
   ],
   "source": [
    "fig, ax = plt.subplots(figsize=(6,6))\n",
    "sns.heatmap(trip.select_dtypes(include=np.number).corr(), annot=True, linewidth=0.5, cmap = \"Reds\", ax=ax)\n",
    "ax.xaxis.tick_top()\n",
    "plt.xticks(rotation=90)\n",
    "plt.show()"
   ]
  },
  {
   "cell_type": "markdown",
   "id": "25eaf14e",
   "metadata": {},
   "source": [
    "- **It is important to note that the heatmap reveals strong positive correlations between all time and distance variables.**"
   ]
  },
  {
   "cell_type": "markdown",
   "id": "f5430d73",
   "metadata": {},
   "source": [
    "### 4.4 Normalize the numerical features"
   ]
  },
  {
   "cell_type": "code",
   "execution_count": 38,
   "id": "140e18a6",
   "metadata": {},
   "outputs": [],
   "source": [
    "from sklearn.preprocessing import MinMaxScaler\n",
    "scaler = MinMaxScaler()\n",
    "scaler.fit(trip[num_cols])\n",
    "trip[num_cols]=scaler.transform(trip[num_cols])"
   ]
  },
  {
   "cell_type": "code",
   "execution_count": 39,
   "id": "8312d3a3",
   "metadata": {},
   "outputs": [
    {
     "data": {
      "text/html": [
       "<div>\n",
       "<style scoped>\n",
       "    .dataframe tbody tr th:only-of-type {\n",
       "        vertical-align: middle;\n",
       "    }\n",
       "\n",
       "    .dataframe tbody tr th {\n",
       "        vertical-align: top;\n",
       "    }\n",
       "\n",
       "    .dataframe thead th {\n",
       "        text-align: right;\n",
       "    }\n",
       "</style>\n",
       "<table border=\"1\" class=\"dataframe\">\n",
       "  <thead>\n",
       "    <tr style=\"text-align: right;\">\n",
       "      <th></th>\n",
       "      <th>start_scan_to_end_scan</th>\n",
       "      <th>od_time_diff_hour</th>\n",
       "      <th>actual_distance_to_destination</th>\n",
       "      <th>actual_time</th>\n",
       "      <th>osrm_time</th>\n",
       "      <th>osrm_distance</th>\n",
       "      <th>segment_actual_time_sum</th>\n",
       "      <th>segment_osrm_distance_sum</th>\n",
       "      <th>segment_osrm_time_sum</th>\n",
       "    </tr>\n",
       "  </thead>\n",
       "  <tbody>\n",
       "    <tr>\n",
       "      <th>0</th>\n",
       "      <td>0.117868</td>\n",
       "      <td>0.118559</td>\n",
       "      <td>0.176119</td>\n",
       "      <td>0.166253</td>\n",
       "      <td>0.167568</td>\n",
       "      <td>0.167335</td>\n",
       "      <td>0.164794</td>\n",
       "      <td>0.156330</td>\n",
       "      <td>0.146766</td>\n",
       "    </tr>\n",
       "    <tr>\n",
       "      <th>1</th>\n",
       "      <td>0.057808</td>\n",
       "      <td>0.057749</td>\n",
       "      <td>0.022426</td>\n",
       "      <td>0.062035</td>\n",
       "      <td>0.024324</td>\n",
       "      <td>0.023343</td>\n",
       "      <td>0.062422</td>\n",
       "      <td>0.022484</td>\n",
       "      <td>0.024876</td>\n",
       "    </tr>\n",
       "    <tr>\n",
       "      <th>2</th>\n",
       "      <td>0.521021</td>\n",
       "      <td>0.520930</td>\n",
       "      <td>0.325009</td>\n",
       "      <td>0.411911</td>\n",
       "      <td>0.300000</td>\n",
       "      <td>0.303075</td>\n",
       "      <td>0.413233</td>\n",
       "      <td>0.286617</td>\n",
       "      <td>0.271144</td>\n",
       "    </tr>\n",
       "    <tr>\n",
       "      <th>3</th>\n",
       "      <td>0.124625</td>\n",
       "      <td>0.125213</td>\n",
       "      <td>0.042791</td>\n",
       "      <td>0.064516</td>\n",
       "      <td>0.045946</td>\n",
       "      <td>0.041795</td>\n",
       "      <td>0.063670</td>\n",
       "      <td>0.039525</td>\n",
       "      <td>0.042289</td>\n",
       "    </tr>\n",
       "    <tr>\n",
       "      <th>4</th>\n",
       "      <td>0.056306</td>\n",
       "      <td>0.055883</td>\n",
       "      <td>0.000269</td>\n",
       "      <td>0.018610</td>\n",
       "      <td>0.018919</td>\n",
       "      <td>0.006482</td>\n",
       "      <td>0.018727</td>\n",
       "      <td>0.006130</td>\n",
       "      <td>0.017413</td>\n",
       "    </tr>\n",
       "  </tbody>\n",
       "</table>\n",
       "</div>"
      ],
      "text/plain": [
       "   start_scan_to_end_scan  od_time_diff_hour  actual_distance_to_destination  \\\n",
       "0                0.117868           0.118559                        0.176119   \n",
       "1                0.057808           0.057749                        0.022426   \n",
       "2                0.521021           0.520930                        0.325009   \n",
       "3                0.124625           0.125213                        0.042791   \n",
       "4                0.056306           0.055883                        0.000269   \n",
       "\n",
       "   actual_time  osrm_time  osrm_distance  segment_actual_time_sum  \\\n",
       "0     0.166253   0.167568       0.167335                 0.164794   \n",
       "1     0.062035   0.024324       0.023343                 0.062422   \n",
       "2     0.411911   0.300000       0.303075                 0.413233   \n",
       "3     0.064516   0.045946       0.041795                 0.063670   \n",
       "4     0.018610   0.018919       0.006482                 0.018727   \n",
       "\n",
       "   segment_osrm_distance_sum  segment_osrm_time_sum  \n",
       "0                   0.156330               0.146766  \n",
       "1                   0.022484               0.024876  \n",
       "2                   0.286617               0.271144  \n",
       "3                   0.039525               0.042289  \n",
       "4                   0.006130               0.017413  "
      ]
     },
     "execution_count": 39,
     "metadata": {},
     "output_type": "execute_result"
    }
   ],
   "source": [
    "trip[num_cols].head()"
   ]
  },
  {
   "cell_type": "markdown",
   "id": "aad5cb35",
   "metadata": {},
   "source": [
    "### 5. Hypothesis Testing"
   ]
  },
  {
   "cell_type": "markdown",
   "id": "a53bba9a",
   "metadata": {},
   "source": [
    "#### 5.1 Hypothesis testing/ Visual analysis between start_scan_to_end_scan and od_time_diff_hour.\n",
    "\n",
    "  **Formulating the Hypothesis**\n",
    " - Ho : start_scan_to_end_scan and od_time_diff_hour are similar\n",
    " - Ha : start_scan_to_end_scan and od_time_diff_hour are different"
   ]
  },
  {
   "cell_type": "code",
   "execution_count": 40,
   "id": "4c62a1c6",
   "metadata": {},
   "outputs": [
    {
     "data": {
      "image/png": "[encoded data removed]",
      "text/plain": [
       "<Figure size 720x432 with 1 Axes>"
      ]
     },
     "metadata": {
      "needs_background": "light"
     },
     "output_type": "display_data"
    }
   ],
   "source": [
    "# Create a figure with a specific size\n",
    "plt.figure(figsize=(10,6))\n",
    "\n",
    "# Plot two histograms and KDE\n",
    "sns.histplot(trip['start_scan_to_end_scan'], color='blue', kde=True)\n",
    "sns.histplot(trip['od_time_diff_hour'], color='orange', kde=True)\n",
    "\n",
    "# Add a legend for clarity\n",
    "plt.legend(['start_scan_to_end_scan', 'od_time_diff_hour'])\n",
    "\n",
    "# Label the axes\n",
    "plt.xlabel('Time')\n",
    "plt.ylabel('Frequency')\n",
    "\n",
    "# Show the plot\n",
    "plt.show()"
   ]
  },
  {
   "cell_type": "code",
   "execution_count": 41,
   "id": "5bbefbdc",
   "metadata": {},
   "outputs": [
    {
     "data": {
      "text/plain": [
       "0.9811390456582993"
      ]
     },
     "execution_count": 41,
     "metadata": {},
     "output_type": "execute_result"
    }
   ],
   "source": [
    "kruskal_stat, p_val = kruskal(trip['start_scan_to_end_scan'],trip['od_time_diff_hour'])\n",
    "p_val"
   ]
  },
  {
   "cell_type": "code",
   "execution_count": 42,
   "id": "98f32c36",
   "metadata": {},
   "outputs": [
    {
     "name": "stdout",
     "output_type": "stream",
     "text": [
      "We fail to reject null Hypthesis. start_scan_to_end_scan and od_time_diff_hour are similar\n"
     ]
    }
   ],
   "source": [
    "sig_level = 0.05\n",
    "if p_val < sig_level:\n",
    "    print('We reject null Hypothesis. start_scan_to_end_scan and od_time_diff_hour are not similar')\n",
    "else:\n",
    "    print('We fail to reject null Hypthesis. start_scan_to_end_scan and od_time_diff_hour are similar')"
   ]
  },
  {
   "cell_type": "markdown",
   "id": "b7948427",
   "metadata": {},
   "source": [
    "\n",
    "\n",
    "#### **5.2** Hypothesis testing/ Visual analysis between **actual_time aggregated value** and **OSRM_time aggregated value.**\n",
    "\n",
    " **Formulating the Hypothesis**\n",
    "- Ho : actual_time and osrm_time are similar \n",
    "- Ha : actual_time and osrm_time are different"
   ]
  },
  {
   "cell_type": "code",
   "execution_count": 43,
   "id": "7cfafdcf",
   "metadata": {},
   "outputs": [
    {
     "data": {
      "image/png": "[encoded data removed]",
      "text/plain": [
       "<Figure size 720x432 with 1 Axes>"
      ]
     },
     "metadata": {
      "needs_background": "light"
     },
     "output_type": "display_data"
    }
   ],
   "source": [
    "\n",
    "# Create a figure with a specific size\n",
    "plt.figure(figsize=(10,6))\n",
    "\n",
    "# Plot two histograms and KDE\n",
    "sns.histplot(trip['actual_time'], color='blue', kde=True)\n",
    "sns.histplot(trip['osrm_time'], color='orange', kde=True)\n",
    "\n",
    "# Add a legend for clarity\n",
    "plt.legend(['actual_time', 'osrm_time'])\n",
    "\n",
    "# Label the axes\n",
    "plt.xlabel('Time')\n",
    "plt.ylabel('Frequency')\n",
    "\n",
    "# Show the plot\n",
    "plt.show()\n"
   ]
  },
  {
   "cell_type": "code",
   "execution_count": 44,
   "id": "179a0721",
   "metadata": {},
   "outputs": [
    {
     "data": {
      "text/plain": [
       "1.3094380508408646e-20"
      ]
     },
     "execution_count": 44,
     "metadata": {},
     "output_type": "execute_result"
    }
   ],
   "source": [
    "kruskal_stat, p_val = kruskal(trip['actual_time'],trip['osrm_time'])\n",
    "p_val"
   ]
  },
  {
   "cell_type": "code",
   "execution_count": 45,
   "id": "e4483ffc",
   "metadata": {},
   "outputs": [
    {
     "name": "stdout",
     "output_type": "stream",
     "text": [
      "We reject null Hypothesis. Actual_time and osrm_time are not similar\n"
     ]
    }
   ],
   "source": [
    "\n",
    "if p_val < sig_level:\n",
    "    print('We reject null Hypothesis. Actual_time and osrm_time are not similar')\n",
    "else:\n",
    "    print('We fail to reject null Hypthesis. Actual_time and osrm_time are similar')"
   ]
  },
  {
   "cell_type": "markdown",
   "id": "023c8dee",
   "metadata": {},
   "source": [
    "#### **5.3** Hypothesis testing/ Visual analysis between **aggregated actual_time and aggregated segment_actual_time.**\n",
    "\n",
    " **Formulating the Hypothesis**\n",
    "- Ho : actual_time and segment_actual_time_sum are similar \n",
    "- Ha : actual_time and segment_actual_time_sum are different"
   ]
  },
  {
   "cell_type": "code",
   "execution_count": 46,
   "id": "61c99eb5",
   "metadata": {
    "scrolled": false
   },
   "outputs": [
    {
     "data": {
      "image/png": "[encoded data removed]",
      "text/plain": [
       "<Figure size 720x432 with 1 Axes>"
      ]
     },
     "metadata": {
      "needs_background": "light"
     },
     "output_type": "display_data"
    }
   ],
   "source": [
    "# Create a figure with a specific size\n",
    "plt.figure(figsize=(10,6))\n",
    "\n",
    "# Plot two histograms and KDE\n",
    "sns.histplot(trip['actual_time'], color='blue', kde=True)\n",
    "sns.histplot(trip['segment_actual_time_sum'], color='orange', kde=True)\n",
    "\n",
    "# Add a legend for clarity\n",
    "plt.legend(['actual_time', 'segment_actual_time_sum'])\n",
    "\n",
    "# Label the axes\n",
    "plt.xlabel('Time')\n",
    "plt.ylabel('Frequency')\n",
    "\n",
    "# Show the plot\n",
    "plt.show()\n"
   ]
  },
  {
   "cell_type": "code",
   "execution_count": 47,
   "id": "46c74063",
   "metadata": {},
   "outputs": [
    {
     "data": {
      "text/plain": [
       "0.716705110329332"
      ]
     },
     "execution_count": 47,
     "metadata": {},
     "output_type": "execute_result"
    }
   ],
   "source": [
    "kruskal_stat, p_val = kruskal(trip['actual_time'],trip['segment_actual_time_sum'])\n",
    "p_val"
   ]
  },
  {
   "cell_type": "code",
   "execution_count": 48,
   "id": "872a2414",
   "metadata": {},
   "outputs": [
    {
     "name": "stdout",
     "output_type": "stream",
     "text": [
      "We fail to reject null Hypthesis. Actual_time and segment_actual_time_sum are similar\n"
     ]
    }
   ],
   "source": [
    "if p_val < sig_level:\n",
    "    print('We reject null Hypothesis. Actual_time and segment_actual_time_sum are not similar')\n",
    "else:\n",
    "    print('We fail to reject null Hypthesis. Actual_time and segment_actual_time_sum are similar')"
   ]
  },
  {
   "cell_type": "markdown",
   "id": "3fcb7460",
   "metadata": {},
   "source": [
    "####  **5.4** Hypothesis testing/ Visual analysis between **aggregated osrm_distance and aggregated segment_osrm_distance.**\n",
    "\n",
    " **Formulating the Hypothesis**\n",
    "- Ho : osrm_distance and segment_osrm_distance_sum are similar \n",
    "- Ha : osrm_distance and segment_osrm_distance_sum are different"
   ]
  },
  {
   "cell_type": "code",
   "execution_count": 49,
   "id": "dc7178a3",
   "metadata": {},
   "outputs": [
    {
     "data": {
      "image/png": "[encoded data removed]",
      "text/plain": [
       "<Figure size 720x432 with 1 Axes>"
      ]
     },
     "metadata": {
      "needs_background": "light"
     },
     "output_type": "display_data"
    }
   ],
   "source": [
    "# Create a figure with a specific size\n",
    "plt.figure(figsize=(10,6))\n",
    "\n",
    "# Plot two histograms and KDE\n",
    "sns.histplot(trip['osrm_distance'], color='blue', kde=True)\n",
    "sns.histplot(trip['segment_osrm_distance_sum'], color='orange', kde=True)\n",
    "\n",
    "# Add a legend for clarity\n",
    "plt.legend(['osrm_distance', 'segment_osrm_distance_sum'])\n",
    "\n",
    "# Label the axes\n",
    "plt.xlabel('Distance')\n",
    "plt.ylabel('Frequency')\n",
    "\n",
    "# Show the plot\n",
    "plt.show()"
   ]
  },
  {
   "cell_type": "code",
   "execution_count": 50,
   "id": "6697de43",
   "metadata": {},
   "outputs": [
    {
     "data": {
      "text/plain": [
       "0.05751029331836961"
      ]
     },
     "execution_count": 50,
     "metadata": {},
     "output_type": "execute_result"
    }
   ],
   "source": [
    "kruskal_stat, p_val = kruskal(trip['osrm_distance'],trip['segment_osrm_distance_sum'])\n",
    "p_val"
   ]
  },
  {
   "cell_type": "code",
   "execution_count": 51,
   "id": "0d038f58",
   "metadata": {},
   "outputs": [
    {
     "name": "stdout",
     "output_type": "stream",
     "text": [
      "We fail to reject null Hypthesis. osrm_distance and segment_osrm_distance_sum are similar\n"
     ]
    }
   ],
   "source": [
    "if p_val < sig_level:\n",
    "    print('We reject null Hypothesis. osrm_distance and segment_osrm_distance_sum are not similar')\n",
    "else:\n",
    "    print('We fail to reject null Hypthesis. osrm_distance and segment_osrm_distance_sum are similar')"
   ]
  },
  {
   "cell_type": "markdown",
   "id": "d1d9dfcf",
   "metadata": {},
   "source": [
    "#### **5.5** Hypothesis testing/ Visual analysis between **aggregated osrm_time and aggregated segment_osrm_time**\n",
    "  **Formulating the Hypothesis**\n",
    "- Ho : osrm_time and segment_osrm_time are similar\n",
    "- H1 : osrm_time and segment_osrm_time are different"
   ]
  },
  {
   "cell_type": "code",
   "execution_count": 52,
   "id": "017b7f0d",
   "metadata": {},
   "outputs": [
    {
     "data": {
      "image/png": "[encoded data removed]",
      "text/plain": [
       "<Figure size 720x432 with 1 Axes>"
      ]
     },
     "metadata": {
      "needs_background": "light"
     },
     "output_type": "display_data"
    }
   ],
   "source": [
    "# Create a figure with a specific size\n",
    "plt.figure(figsize=(10,6))\n",
    "\n",
    "# Plot two histograms and KDE\n",
    "sns.histplot(trip['osrm_time'], color='blue', kde=True)\n",
    "sns.histplot(trip['segment_osrm_time_sum'], color='orange', kde=True)\n",
    "\n",
    "# Add a legend for clarity\n",
    "plt.legend(['osrm_time', 'segment_osrm_time_sum'])\n",
    "\n",
    "# Label the axes\n",
    "plt.xlabel('Time')\n",
    "plt.ylabel('Frequency')\n",
    "\n",
    "# Show the plot\n",
    "plt.show()"
   ]
  },
  {
   "cell_type": "code",
   "execution_count": 53,
   "id": "cee8d427",
   "metadata": {},
   "outputs": [
    {
     "data": {
      "text/plain": [
       "0.8230926537150282"
      ]
     },
     "execution_count": 53,
     "metadata": {},
     "output_type": "execute_result"
    }
   ],
   "source": [
    "kruskal_stat, p_val = kruskal(trip['osrm_time'],trip['segment_osrm_time_sum'])\n",
    "p_val"
   ]
  },
  {
   "cell_type": "code",
   "execution_count": 54,
   "id": "461c8b0c",
   "metadata": {},
   "outputs": [
    {
     "name": "stdout",
     "output_type": "stream",
     "text": [
      "We fail to reject null Hypthesis. osrm_time and segment_osrm_time_sum are similar\n"
     ]
    }
   ],
   "source": [
    "if p_val < sig_level:\n",
    "    print('We reject null Hypothesis. osrm_time and segment_osrm_time_sum are not similar')\n",
    "else:\n",
    "    print('We fail to reject null Hypthesis. osrm_time and segment_osrm_time_sum are similar')"
   ]
  },
  {
   "cell_type": "markdown",
   "id": "5e955d4c",
   "metadata": {},
   "source": [
    "### 6. Business Insights"
   ]
  },
  {
   "cell_type": "markdown",
   "id": "7877643f",
   "metadata": {},
   "source": [
    "####  6.1 Top 5 source states"
   ]
  },
  {
   "cell_type": "code",
   "execution_count": 55,
   "id": "eaf5ee08",
   "metadata": {},
   "outputs": [
    {
     "data": {
      "image/png": "[encoded data removed]",
      "text/plain": [
       "<Figure size 864x432 with 1 Axes>"
      ]
     },
     "metadata": {
      "needs_background": "light"
     },
     "output_type": "display_data"
    }
   ],
   "source": [
    "top_source_state=trip['source_state'].value_counts().head()\n",
    "plt.figure(figsize=(12, 6))\n",
    "sns.barplot(x=top_source_state.index, y=top_source_state.values)\n",
    "plt.title('Top Source States')\n",
    "plt.show()"
   ]
  },
  {
   "cell_type": "markdown",
   "id": "88bfb414",
   "metadata": {},
   "source": [
    "####  6.2 Top 5 destination states"
   ]
  },
  {
   "cell_type": "code",
   "execution_count": 56,
   "id": "da531c7a",
   "metadata": {},
   "outputs": [
    {
     "data": {
      "image/png": "[encoded data removed]",
      "text/plain": [
       "<Figure size 864x432 with 1 Axes>"
      ]
     },
     "metadata": {
      "needs_background": "light"
     },
     "output_type": "display_data"
    }
   ],
   "source": [
    "top_destination_state = trip['destination_state'].value_counts().head()\n",
    "plt.figure(figsize=(12, 6))\n",
    "sns.barplot(x=top_destination_state.index, y=top_destination_state.values)\n",
    "plt.title('Top Destination State')\n",
    "plt.show()"
   ]
  },
  {
   "cell_type": "markdown",
   "id": "1ce16770",
   "metadata": {},
   "source": [
    "####  6.3 Top 5 source cities"
   ]
  },
  {
   "cell_type": "code",
   "execution_count": 57,
   "id": "edd420eb",
   "metadata": {},
   "outputs": [
    {
     "data": {
      "image/png": "[encoded data removed]",
      "text/plain": [
       "<Figure size 864x432 with 1 Axes>"
      ]
     },
     "metadata": {
      "needs_background": "light"
     },
     "output_type": "display_data"
    }
   ],
   "source": [
    "top_source_city=trip['source_city'].value_counts().head()\n",
    "plt.figure(figsize=(12, 6))\n",
    "sns.barplot(x=top_source_city.index, y=top_source_city.values)\n",
    "plt.title('Top Source Cities')\n",
    "plt.show()"
   ]
  },
  {
   "cell_type": "markdown",
   "id": "e646bc57",
   "metadata": {},
   "source": [
    "####  6.4 Top 5 destination cities"
   ]
  },
  {
   "cell_type": "code",
   "execution_count": 58,
   "id": "f4341b18",
   "metadata": {},
   "outputs": [
    {
     "data": {
      "image/png": "[encoded data removed]",
      "text/plain": [
       "<Figure size 864x432 with 1 Axes>"
      ]
     },
     "metadata": {
      "needs_background": "light"
     },
     "output_type": "display_data"
    }
   ],
   "source": [
    "top_destination_city = trip['destination_city'].value_counts().head()\n",
    "plt.figure(figsize=(12, 6))\n",
    "sns.barplot(x=top_destination_city.index, y=top_destination_city.values)\n",
    "plt.title('Top Destination cities')\n",
    "plt.show()"
   ]
  },
  {
   "cell_type": "markdown",
   "id": "287c111d",
   "metadata": {},
   "source": [
    "####  6.5 Busiest corridors by number of trips"
   ]
  },
  {
   "cell_type": "code",
   "execution_count": 59,
   "id": "4b4d642a",
   "metadata": {},
   "outputs": [
    {
     "data": {
      "image/png": "[encoded data removed]",
      "text/plain": [
       "<Figure size 864x432 with 1 Axes>"
      ]
     },
     "metadata": {
      "needs_background": "light"
     },
     "output_type": "display_data"
    }
   ],
   "source": [
    "\n",
    "# Visualize\n",
    "plt.figure(figsize=(12, 6))\n",
    "sns.barplot(x=busiest_corridors['source_city'] + ' to ' + busiest_corridors['destination_city'], \n",
    "            y=busiest_corridors['trip_count'])\n",
    "plt.xticks(rotation=45)\n",
    "plt.title('Busiest Corridors by Number of Trips')\n",
    "plt.show()\n"
   ]
  },
  {
   "cell_type": "code",
   "execution_count": 60,
   "id": "dcbd2b47",
   "metadata": {},
   "outputs": [
    {
     "data": {
      "text/html": [
       "<div>\n",
       "<style scoped>\n",
       "    .dataframe tbody tr th:only-of-type {\n",
       "        vertical-align: middle;\n",
       "    }\n",
       "\n",
       "    .dataframe tbody tr th {\n",
       "        vertical-align: top;\n",
       "    }\n",
       "\n",
       "    .dataframe thead th {\n",
       "        text-align: right;\n",
       "    }\n",
       "</style>\n",
       "<table border=\"1\" class=\"dataframe\">\n",
       "  <thead>\n",
       "    <tr style=\"text-align: right;\">\n",
       "      <th></th>\n",
       "      <th>source_city</th>\n",
       "      <th>destination_city</th>\n",
       "      <th>trip_count</th>\n",
       "      <th>actual_distance_to_destination</th>\n",
       "      <th>actual_time</th>\n",
       "      <th>osrm_time</th>\n",
       "      <th>segment_osrm_time_sum</th>\n",
       "      <th>segment_actual_time_sum</th>\n",
       "    </tr>\n",
       "  </thead>\n",
       "  <tbody>\n",
       "    <tr>\n",
       "      <th>0</th>\n",
       "      <td>bengaluru</td>\n",
       "      <td>bengaluru</td>\n",
       "      <td>1643</td>\n",
       "      <td>29.984678</td>\n",
       "      <td>85.214851</td>\n",
       "      <td>42.202678</td>\n",
       "      <td>46.975046</td>\n",
       "      <td>84.139988</td>\n",
       "    </tr>\n",
       "    <tr>\n",
       "      <th>1</th>\n",
       "      <td>mumbai</td>\n",
       "      <td>mumbai</td>\n",
       "      <td>757</td>\n",
       "      <td>18.506362</td>\n",
       "      <td>73.071334</td>\n",
       "      <td>21.039630</td>\n",
       "      <td>21.421400</td>\n",
       "      <td>72.667107</td>\n",
       "    </tr>\n",
       "    <tr>\n",
       "      <th>2</th>\n",
       "      <td>bhiwandi</td>\n",
       "      <td>mumbai</td>\n",
       "      <td>436</td>\n",
       "      <td>22.624733</td>\n",
       "      <td>74.316514</td>\n",
       "      <td>25.043578</td>\n",
       "      <td>24.880734</td>\n",
       "      <td>73.708716</td>\n",
       "    </tr>\n",
       "    <tr>\n",
       "      <th>3</th>\n",
       "      <td>hyderabad</td>\n",
       "      <td>hyderabad</td>\n",
       "      <td>349</td>\n",
       "      <td>44.302587</td>\n",
       "      <td>126.446991</td>\n",
       "      <td>43.146132</td>\n",
       "      <td>50.607450</td>\n",
       "      <td>125.277937</td>\n",
       "    </tr>\n",
       "    <tr>\n",
       "      <th>4</th>\n",
       "      <td>mumbai</td>\n",
       "      <td>bhiwandi</td>\n",
       "      <td>270</td>\n",
       "      <td>21.562836</td>\n",
       "      <td>93.933333</td>\n",
       "      <td>24.414815</td>\n",
       "      <td>24.448148</td>\n",
       "      <td>93.355556</td>\n",
       "    </tr>\n",
       "  </tbody>\n",
       "</table>\n",
       "</div>"
      ],
      "text/plain": [
       "  source_city destination_city  trip_count  actual_distance_to_destination  \\\n",
       "0   bengaluru        bengaluru        1643                       29.984678   \n",
       "1      mumbai           mumbai         757                       18.506362   \n",
       "2    bhiwandi           mumbai         436                       22.624733   \n",
       "3   hyderabad        hyderabad         349                       44.302587   \n",
       "4      mumbai         bhiwandi         270                       21.562836   \n",
       "\n",
       "   actual_time  osrm_time  segment_osrm_time_sum  segment_actual_time_sum  \n",
       "0    85.214851  42.202678              46.975046                84.139988  \n",
       "1    73.071334  21.039630              21.421400                72.667107  \n",
       "2    74.316514  25.043578              24.880734                73.708716  \n",
       "3   126.446991  43.146132              50.607450               125.277937  \n",
       "4    93.933333  24.414815              24.448148                93.355556  "
      ]
     },
     "execution_count": 60,
     "metadata": {},
     "output_type": "execute_result"
    }
   ],
   "source": [
    "#Busiest corridors insights\n",
    "busiest_corridors.head().reset_index(drop=True)"
   ]
  },
  {
   "cell_type": "code",
   "execution_count": 61,
   "id": "36a044a4",
   "metadata": {},
   "outputs": [
    {
     "data": {
      "image/png": "[encoded data removed]",
      "text/plain": [
       "<Figure size 432x288 with 1 Axes>"
      ]
     },
     "metadata": {},
     "output_type": "display_data"
    }
   ],
   "source": [
    "# Plotting the pie chart\n",
    "labels = ['Carting','FTL']\n",
    "sizes = route_counts\n",
    "colors = ['green', 'lightskyblue']\n",
    "explode = (0.1, 0)\n",
    "plt.pie(sizes, explode=explode, labels=labels, colors=colors, autopct='%1.1f%%',shadow=True,)\n",
    "plt.title('Distribution of Route Types')\n",
    "plt.axis('equal')  # Equal aspect ratio ensures that pie is drawn as a circle.\n",
    "\n",
    "# Display the plot\n",
    "plt.show()\n"
   ]
  },
  {
   "cell_type": "markdown",
   "id": "b8fad907",
   "metadata": {},
   "source": [
    "- The most common route type is **Carting.**\n",
    "- The top 3 **source** and **destination states** are **Maharastra, Karnataka and Haryana.**\n",
    "- The top 3 **source** and **destination cities** are **Bengaluru, Mumbai and Gurgaon.**\n",
    "- Most of the packages are sent and received within Bengaluru, Mumbai and Hyderabad but the **most busiest corridor is Bhiwandi-Mumbai.**\n",
    "- **start_scan_to_end_scan** and **od_time_diff_hour** are **similar**\n",
    "- Aggregated **actual_time** and aggregated **osrm_time** are **not similar.**\n",
    "- Aggregated **actual_time** and aggregated **segment_actual_time** are **similar.**\n",
    "- Aggregated **osrm_distance** and aggregated **segment_osrm_distance** are **similar.**\n",
    "- Aggregated **osrm_time** and aggregated **segment_osrm_time** are **similar.**"
   ]
  },
  {
   "cell_type": "markdown",
   "id": "8edb1836",
   "metadata": {},
   "source": [
    "### **7. Business Recommendations** <br>\n",
    "\n",
    "**Optimize resources for busiest corridors:**\n",
    "\n",
    "- While most packages are sent and received within Bengaluru, Mumbai and Hyderabad and the busiest corridor is Bhiwandi-Mumbai. So based on this, Delhivery should allocate additional resources such as warehouse, vehicles and manpower to manage the high shipment volume in this corridor more effectively.\n",
    "\n",
    "\n",
    "**Refine distance and time estimations:**\n",
    "\n",
    "- There is a significant difference between the actual time and the OSRM time (predicted time by the routing engine) across corridors. Therefore, the company should adjust the algorithm to improve prediction accuracy.\n",
    "\n",
    "**Promote FTL as faster than carting**\n",
    "- The company should emphasize the benefits of the Full Truck Load (FTL) route type as a faster delivery option compared to carting. By highlighting its speed advantages, FTL can be recommended to large organizations as a more efficient choice"
   ]
  }
 ],
 "metadata": {
  "kernelspec": {
   "display_name": "Python 3 (ipykernel)",
   "language": "python",
   "name": "python3"
  },
  "language_info": {
   "codemirror_mode": {
    "name": "ipython",
    "version": 3
   },
   "file_extension": ".py",
   "mimetype": "text/x-python",
   "name": "python",
   "nbconvert_exporter": "python",
   "pygments_lexer": "ipython3",
   "version": "3.9.7"
  }
 },
 "nbformat": 4,
 "nbformat_minor": 5
}
